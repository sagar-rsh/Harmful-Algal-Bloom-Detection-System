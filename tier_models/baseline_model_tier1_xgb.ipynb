{
 "cells": [
  {
   "cell_type": "markdown",
   "id": "a34c42e7",
   "metadata": {},
   "source": [
    "# Tier 1 Model Pipeline - Free Tier (1 Modality, 5 Days, XGBoost Only)"
   ]
  },
  {
   "cell_type": "code",
   "execution_count": null,
   "id": "888f87bd",
   "metadata": {},
   "outputs": [],
   "source": [
    "import os\n",
    "import numpy as np\n",
    "import cv2\n",
    "from sklearn.model_selection import train_test_split\n",
    "from sklearn.metrics import classification_report, confusion_matrix, ConfusionMatrixDisplay\n",
    "from xgboost import XGBClassifier\n",
    "import matplotlib.pyplot as plt\n",
    "\n",
    "# Configurations\n",
    "N_DAYS = 5\n",
    "N_MODALITIES = 1\n",
    "IMG_SIZE = (64, 64)\n",
    "BASE_DIR = \"/kaggle/input/data-set-3k-zip/data_set_3K\"\n",
    "MAX_SAMPLES_PER_CLASS = 50\n"
   ]
  },
  {
   "cell_type": "code",
   "execution_count": null,
   "id": "02e5205b",
   "metadata": {},
   "outputs": [],
   "source": [
    "def load_data(base_dir, max_per_class):\n",
    "    X, y = [], []\n",
    "    for label in [\"0\", \"1\"]:\n",
    "        label_dir = os.path.join(base_dir, label)\n",
    "        count = 0\n",
    "        for folder in sorted(os.listdir(label_dir)):\n",
    "            if count >= max_per_class:\n",
    "                break\n",
    "            try:\n",
    "                day_images = []\n",
    "                for day in range(1, N_DAYS + 1):\n",
    "                    img_path = os.path.join(label_dir, folder, \"1\", f\"{day:02}.png\")\n",
    "                    img = cv2.imread(img_path)\n",
    "                    if img is None:\n",
    "                        raise ValueError(\"Missing image\")\n",
    "                    img = cv2.resize(img, IMG_SIZE)\n",
    "                    img = img.astype(\"float32\") / 255.0\n",
    "                    day_images.append(img)\n",
    "                sample = np.stack(day_images, axis=0)\n",
    "                X.append(sample)\n",
    "                y.append(int(label))\n",
    "                count += 1\n",
    "            except:\n",
    "                continue\n",
    "    return np.array(X), np.array(y)\n",
    "\n",
    "X, y = load_data(BASE_DIR, MAX_SAMPLES_PER_CLASS)\n",
    "print(\"Loaded:\", X.shape, y.shape)\n"
   ]
  },
  {
   "cell_type": "code",
   "execution_count": null,
   "id": "0b96b710",
   "metadata": {},
   "outputs": [],
   "source": [
    "X_flat = X.reshape(len(X), -1)\n",
    "X_train, X_test, y_train, y_test = train_test_split(X_flat, y, test_size=0.2, stratify=y, random_state=42)\n"
   ]
  },
  {
   "cell_type": "code",
   "execution_count": null,
   "id": "7d0ee814",
   "metadata": {},
   "outputs": [],
   "source": [
    "xgb = XGBClassifier(n_jobs=1, use_label_encoder=False, eval_metric=\"logloss\")\n",
    "xgb.fit(X_train, y_train)\n",
    "y_pred = xgb.predict(X_test)\n",
    "\n",
    "print(classification_report(y_test, y_pred))\n",
    "ConfusionMatrixDisplay.from_predictions(y_test, y_pred, display_labels=[\"Non-Toxic\", \"Toxic\"], cmap=\"Greens\")\n",
    "plt.title(\"XGBoost - Tier 1 Model (Free Tier)\")\n",
    "plt.show()\n"
   ]
  }
 ],
 "metadata": {},
 "nbformat": 4,
 "nbformat_minor": 5
}
