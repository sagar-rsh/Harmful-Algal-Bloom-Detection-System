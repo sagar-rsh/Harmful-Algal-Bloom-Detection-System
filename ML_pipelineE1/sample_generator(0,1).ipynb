{
  "nbformat": 4,
  "nbformat_minor": 0,
  "metadata": {
    "colab": {
      "provenance": []
    },
    "kernelspec": {
      "name": "python3",
      "display_name": "Python 3"
    },
    "language_info": {
      "name": "python"
    }
  },
  "cells": [
    {
      "cell_type": "code",
      "execution_count": null,
      "metadata": {
        "id": "WlUI0p066P48"
      },
      "outputs": [],
      "source": [
        "# Step 1: Use your CSV to split datacubes into 0 and 1 based on HAB_EVENT\n",
        "import os\n",
        "import shutil\n",
        "import pandas as pd\n",
        "\n",
        "# Paths and setup\n",
        "csv_path = \"/content/mvp_events.csv\"  # CSV with STABLE_EVENT_ID and HAB_EVENT\n",
        "src_dir = \"/content/habnet_datacube_data/habnet_datacube_data/png_images\"\n",
        "dest_dir = \"data_set\"\n",
        "os.makedirs(dest_dir, exist_ok=True)\n",
        "\n",
        "# Load DataFrame\n",
        "df = pd.read_csv(csv_path)\n",
        "df['HAB_EVENT'] = df['HAB_EVENT'].astype(str)\n",
        "df['dir_name'] = df['STABLE_EVENT_ID'].apply(lambda x: 'habnet_datacube_' + x)\n",
        "\n",
        "# Copy based on HAB_EVENT\n",
        "for _, row in df.iterrows():\n",
        "    label = row['HAB_EVENT']  # '0' or '1'\n",
        "    dirname = row['dir_name']\n",
        "    src_path = os.path.join(src_dir, dirname)\n",
        "    label_folder = os.path.join(dest_dir, label)\n",
        "    dest_path = os.path.join(label_folder, dirname)\n",
        "    os.makedirs(label_folder, exist_ok=True)\n",
        "\n",
        "    if os.path.exists(src_path):\n",
        "        try:\n",
        "            shutil.copytree(src_path, dest_path)\n",
        "            print(f\"✅ Copied {dirname} to {label}/\")\n",
        "        except FileExistsError:\n",
        "            print(f\"⚠️ Already exists: {dest_path}\")\n",
        "    else:\n",
        "        print(f\"❌ Not found: {src_path}\")"
      ]
    }
  ]
}