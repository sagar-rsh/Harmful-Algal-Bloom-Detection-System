{
 "cells": [
  {
   "cell_type": "code",
   "execution_count": 4,
   "id": "20f034ab",
   "metadata": {},
   "outputs": [],
   "source": [
    "import pickle\n",
    "import numpy as np\n",
    "import pandas as pd\n",
    "import matplotlib.pyplot as plt\n",
    "from pathlib import Path\n",
    "import glob"
   ]
  },
  {
   "cell_type": "code",
   "execution_count": 5,
   "id": "589e9ef1",
   "metadata": {},
   "outputs": [],
   "source": [
    "def load_single_datacube(file_path):\n",
    "    \"\"\"\n",
    "    Load a single datacube from pickle file\n",
    "    \n",
    "    Returns:\n",
    "    --------\n",
    "    dict: Datacube data with structure:\n",
    "        - datacubes: dict of modality arrays (spatial_x, spatial_y, temporal)\n",
    "        - metadata: dict with event information and parameters\n",
    "    \"\"\"\n",
    "    with open(file_path, 'rb') as f:\n",
    "        datacube_data = pickle.load(f)\n",
    "    return datacube_data\n",
    "\n",
    "def load_all_datacubes(datacube_directory):\n",
    "    \"\"\"\n",
    "    Load all datacubes from directory and create summary\n",
    "    \n",
    "    Returns:\n",
    "    --------\n",
    "    list: List of datacube dictionaries\n",
    "    pd.DataFrame: Summary dataframe with key information\n",
    "    \"\"\"\n",
    "    datacube_files = glob.glob(str(Path(datacube_directory) / \"habnet_datacube_*.pkl\"))\n",
    "    \n",
    "    print(f\"Found {len(datacube_files)} datacube files\")\n",
    "    \n",
    "    datacubes = []\n",
    "    summary_data = []\n",
    "    \n",
    "    for file_path in datacube_files:\n",
    "        try:\n",
    "            datacube = load_single_datacube(file_path)\n",
    "            datacubes.append(datacube)\n",
    "            \n",
    "            # Extract summary information\n",
    "            metadata = datacube['metadata']\n",
    "            summary_data.append({\n",
    "                'file_path': file_path,\n",
    "                'stable_event_id': metadata['stable_event_id'],\n",
    "                'date': metadata['date'],\n",
    "                'lat': metadata['lat'],\n",
    "                'lon': metadata['lon'],\n",
    "                'hab_label': metadata['hab_label'],\n",
    "                'cell_count': metadata['cell_count'],\n",
    "                'data_completeness': metadata['data_completeness'],\n",
    "                'successful_days': metadata['successful_days'],\n",
    "                'modalities': list(datacube['datacubes'].keys())\n",
    "            })\n",
    "            \n",
    "        except Exception as e:\n",
    "            print(f\"Error loading {file_path}: {e}\")\n",
    "    \n",
    "    summary_df = pd.DataFrame(summary_data)\n",
    "    return datacubes, summary_df"
   ]
  },
  {
   "cell_type": "code",
   "execution_count": 6,
   "id": "83ea369c",
   "metadata": {},
   "outputs": [],
   "source": [
    "def inspect_datacube_structure(datacube_data):\n",
    "    \"\"\"\n",
    "    Print detailed information about datacube structure\n",
    "    \"\"\"\n",
    "    print(\"DATACUBE STRUCTURE\")\n",
    "    print(\"=\" * 50)\n",
    "    \n",
    "    # Metadata inspection\n",
    "    metadata = datacube_data['metadata']\n",
    "    print(f\"Event ID: {metadata['stable_event_id']}\")\n",
    "    print(f\"Date: {metadata['date']}\")\n",
    "    print(f\"Location: ({metadata['lat']:.3f}, {metadata['lon']:.3f})\")\n",
    "    print(f\"HAB Label: {metadata['hab_label']} ({'HAB Event' if metadata['hab_label'] == 1 else 'No HAB'})\")\n",
    "    print(f\"Cell Count: {metadata['cell_count']:,}\")\n",
    "    print(f\"Data Completeness: {metadata['data_completeness']:.1%}\")\n",
    "    print(f\"Successful Days: {metadata['successful_days']}/{metadata['config']['temporal_extent_days']}\")\n",
    "    \n",
    "    # Datacube dimensions\n",
    "    datacubes = datacube_data['datacubes']\n",
    "    print(f\"\\nDATACUBE DIMENSIONS\")\n",
    "    print(f\"Available Modalities: {list(datacubes.keys())}\")\n",
    "    \n",
    "    for modality, data in datacubes.items():\n",
    "        print(f\"\\n{modality.upper()}:\")\n",
    "        print(f\"  Shape: {data.shape} (spatial_x, spatial_y, temporal)\")\n",
    "        print(f\"  Data type: {data.dtype}\")\n",
    "        print(f\"  Valid pixels: {np.sum(~np.isnan(data)):,} / {data.size:,} ({np.sum(~np.isnan(data))/data.size:.1%})\")\n",
    "        print(f\"  Value range: {np.nanmin(data):.4f} to {np.nanmax(data):.4f}\")\n",
    "    \n",
    "    # Configuration\n",
    "    config = metadata['config']\n",
    "    print(f\"\\nCONFIGURATION\")\n",
    "    print(f\"  Spatial extent: {config['spatial_extent_km']}km x {config['spatial_extent_km']}km\")\n",
    "    print(f\"  Spatial resolution: {config['spatial_resolution_km']}km\")\n",
    "    print(f\"  Temporal extent: {config['temporal_extent_days']} days\")\n",
    "    print(f\"  Grid size: {data.shape[0]} x {data.shape[1]} pixels\")\n"
   ]
  },
  {
   "cell_type": "code",
   "execution_count": 7,
   "id": "83b8490f",
   "metadata": {},
   "outputs": [],
   "source": [
    "def extract_features_and_labels(datacubes):\n",
    "    \"\"\"\n",
    "    Extract features and labels in format ready for ML\n",
    "    \n",
    "    Returns:\n",
    "    --------\n",
    "    np.array: Features array (n_samples, n_features)\n",
    "    np.array: Labels array (n_samples,)\n",
    "    list: Sample metadata for reference\n",
    "    \"\"\"\n",
    "    features_list = []\n",
    "    labels_list = []\n",
    "    metadata_list = []\n",
    "    \n",
    "    for datacube in datacubes:\n",
    "        # Extract label\n",
    "        label = datacube['metadata']['hab_label']\n",
    "        \n",
    "        # Extract features from each modality\n",
    "        sample_features = []\n",
    "        \n",
    "        for modality, data in datacube['datacubes'].items():\n",
    "            # Flatten spatial-temporal datacube to 1D feature vector\n",
    "            # flattened = data.flatten()\n",
    "            flattened = data.copy()\n",
    "            # print(f'Modality: {modality}')\n",
    "            # print(f'Data: {data}')\n",
    "            \n",
    "            \n",
    "            # Handle NaN values - replace with 0 or use interpolation\n",
    "            flattened = np.nan_to_num(flattened, nan=0.0)\n",
    "            \n",
    "            sample_features.extend(flattened)\n",
    "        \n",
    "        features_list.append(sample_features)\n",
    "        labels_list.append(label)\n",
    "        metadata_list.append({\n",
    "            'event_id': datacube['metadata']['stable_event_id'],\n",
    "            'date': datacube['metadata']['date'],\n",
    "            'location': (datacube['metadata']['lat'], datacube['metadata']['lon'])\n",
    "        })\n",
    "    \n",
    "    features = np.array(features_list)\n",
    "    labels = np.array(labels_list)\n",
    "    \n",
    "    print(f\"ML DATA READY\")\n",
    "    print(f\"Features shape: {features.shape}\")\n",
    "    print(f\"Labels shape: {labels.shape}\")\n",
    "    print(f\"Class distribution: {np.bincount(labels)} (0=No HAB, 1=HAB)\")\n",
    "    \n",
    "    return features, labels, metadata_list\n"
   ]
  },
  {
   "cell_type": "code",
   "execution_count": 8,
   "id": "b6192c55",
   "metadata": {},
   "outputs": [],
   "source": [
    "def extract_temporal_sequences(datacubes, modality='chlor_a'):\n",
    "    \"\"\"\n",
    "    Extract temporal sequences for LSTM/RNN models\n",
    "    \n",
    "    Returns:\n",
    "    --------\n",
    "    np.array: Sequences (n_samples, spatial_x, spatial_y, temporal)\n",
    "    np.array: Labels (n_samples,)\n",
    "    \"\"\"\n",
    "    sequences = []\n",
    "    labels = []\n",
    "    \n",
    "    for datacube in datacubes:\n",
    "        if modality in datacube['datacubes']:\n",
    "            # Get the 3D datacube (spatial_x, spatial_y, temporal)\n",
    "            sequence = datacube['datacubes'][modality]\n",
    "            \n",
    "            # Replace NaN with 0\n",
    "            sequence = np.nan_to_num(sequence, nan=0.0)\n",
    "            \n",
    "            sequences.append(sequence)\n",
    "            labels.append(datacube['metadata']['hab_label'])\n",
    "    \n",
    "    sequences = np.array(sequences)\n",
    "    labels = np.array(labels)\n",
    "    \n",
    "    print(f\"TEMPORAL SEQUENCES READY\")\n",
    "    print(f\"Sequences shape: {sequences.shape} (samples, spatial_x, spatial_y, temporal)\")\n",
    "    print(f\"Labels shape: {labels.shape}\")\n",
    "    \n",
    "    return sequences, labels\n"
   ]
  },
  {
   "cell_type": "code",
   "execution_count": 9,
   "id": "19876ba6",
   "metadata": {},
   "outputs": [],
   "source": [
    "def visualize_datacube(datacube_data, modality='chlor_a'):\n",
    "    \"\"\"\n",
    "    Visualize a single datacube across time\n",
    "    \"\"\"\n",
    "    if modality not in datacube_data['datacubes']:\n",
    "        print(f\"Modality '{modality}' not found in datacube\")\n",
    "        return\n",
    "    \n",
    "    data = datacube_data['datacubes'][modality]\n",
    "    metadata = datacube_data['metadata']\n",
    "    \n",
    "    # Create subplot for each time step\n",
    "    n_days = data.shape[2]\n",
    "    fig, axes = plt.subplots(1, n_days, figsize=(15, 3))\n",
    "    if n_days == 1:\n",
    "        axes = [axes]\n",
    "    \n",
    "    for day in range(n_days):\n",
    "        im = axes[day].imshow(data[:, :, day], cmap='viridis', aspect='auto')\n",
    "        axes[day].set_title(f'Day {day+1}')\n",
    "        axes[day].set_xlabel('Longitude')\n",
    "        axes[day].set_ylabel('Latitude')\n",
    "        plt.colorbar(im, ax=axes[day])\n",
    "    \n",
    "    plt.suptitle(f'{modality.upper()} - Event {metadata[\"stable_event_id\"]} (HAB: {metadata[\"hab_label\"]})')\n",
    "    plt.tight_layout()\n",
    "    plt.show()\n",
    "\n",
    "def plot_class_distribution(summary_df):\n",
    "    \"\"\"\n",
    "    Plot distribution of HAB vs No-HAB events\n",
    "    \"\"\"\n",
    "    plt.figure(figsize=(8, 5))\n",
    "    \n",
    "    # Class distribution\n",
    "    plt.subplot(1, 2, 1)\n",
    "    class_counts = summary_df['hab_label'].value_counts()\n",
    "    plt.bar(['No HAB', 'HAB'], [class_counts.get(0, 0), class_counts.get(1, 0)])\n",
    "    plt.title('Class Distribution')\n",
    "    plt.ylabel('Number of Events')\n",
    "    \n",
    "    # Data completeness by class\n",
    "    plt.subplot(1, 2, 2)\n",
    "    summary_df.boxplot(column='data_completeness', by='hab_label', ax=plt.gca())\n",
    "    plt.title('Data Completeness by Class')\n",
    "    plt.xlabel('HAB Label')\n",
    "    plt.ylabel('Data Completeness')\n",
    "    \n",
    "    plt.tight_layout()\n",
    "    plt.show()\n"
   ]
  },
  {
   "cell_type": "code",
   "execution_count": 10,
   "id": "7d531e27",
   "metadata": {},
   "outputs": [
    {
     "name": "stdout",
     "output_type": "stream",
     "text": [
      "HABNet Datacube Decoder Example\n",
      "========================================\n",
      "\n",
      "1. Loading all datacubes...\n",
      "Found 1368 datacube files\n",
      "\n",
      "Summary:\n",
      "                  stable_event_id  hab_label  data_completeness modalities\n",
      "0     20150118_24.7967_-80.7839_0          0                0.8  [chlor_a]\n",
      "1     20150119_27.3338_-82.5794_0          0                0.6  [chlor_a]\n",
      "2      20150120_25.9117_-81.728_0          0                0.6  [chlor_a]\n",
      "3      20150120_27.057_-82.4436_0          0                0.6  [chlor_a]\n",
      "4     20150120_29.8694_-81.3077_0          0                0.8  [chlor_a]\n",
      "...                           ...        ...                ...        ...\n",
      "1363  20181217_24.9317_-81.4076_0          0                0.8  [chlor_a]\n",
      "1364    20181218_24.478_-81.717_0          0                0.8  [chlor_a]\n",
      "1365  20181218_24.5383_-81.4133_0          0                1.0  [chlor_a]\n",
      "1366  20181219_29.9694_-84.3448_0          0                0.6  [chlor_a]\n",
      "1367  20181226_27.6093_-82.5646_0          0                1.0  [chlor_a]\n",
      "\n",
      "[1368 rows x 4 columns]\n",
      "\n",
      "2. Inspecting first datacube structure...\n",
      "DATACUBE STRUCTURE\n",
      "==================================================\n",
      "Event ID: 20150118_24.7967_-80.7839_0\n",
      "Date: 2015-01-18 00:00:00\n",
      "Location: (24.797, -80.784)\n",
      "HAB Label: 0 (No HAB)\n",
      "Cell Count: 0\n",
      "Data Completeness: 80.0%\n",
      "Successful Days: 4/5\n",
      "\n",
      "DATACUBE DIMENSIONS\n",
      "Available Modalities: ['chlor_a']\n",
      "\n",
      "CHLOR_A:\n",
      "  Shape: (15, 15, 5) (spatial_x, spatial_y, temporal)\n",
      "  Data type: float64\n",
      "  Valid pixels: 675 / 1,125 (60.0%)\n",
      "  Value range: 0.7416 to 71.6395\n",
      "\n",
      "CONFIGURATION\n",
      "  Spatial extent: 30km x 30km\n",
      "  Spatial resolution: 2km\n",
      "  Temporal extent: 5 days\n",
      "  Grid size: 15 x 15 pixels\n",
      "\n",
      "3. Visualizing first datacube...\n"
     ]
    },
    {
     "data": {
      "image/png": "[encoded data removed]",
      "text/plain": [
       "<Figure size 1500x300 with 10 Axes>"
      ]
     },
     "metadata": {},
     "output_type": "display_data"
    },
    {
     "name": "stdout",
     "output_type": "stream",
     "text": [
      "\n",
      "4. Extracting features for traditional ML...\n",
      "ML DATA READY\n",
      "Features shape: (1368, 15, 15, 5)\n",
      "Labels shape: (1368,)\n",
      "Class distribution: [663 705] (0=No HAB, 1=HAB)\n",
      "\n",
      "5. Extracting temporal sequences for deep learning...\n",
      "TEMPORAL SEQUENCES READY\n",
      "Sequences shape: (1368, 15, 15, 5) (samples, spatial_x, spatial_y, temporal)\n",
      "Labels shape: (1368,)\n",
      "\n",
      "6. Plotting data distributions...\n"
     ]
    },
    {
     "data": {
      "image/png": "[encoded data removed]",
      "text/plain": [
       "<Figure size 800x500 with 2 Axes>"
      ]
     },
     "metadata": {},
     "output_type": "display_data"
    },
    {
     "name": "stdout",
     "output_type": "stream",
     "text": [
      "\n",
      "✅ Data is ready for ML! Your friend can now use:\n",
      "   - features, labels for traditional ML (Random Forest, SVM)\n",
      "   - sequences, seq_labels for deep learning (CNN+LSTM)\n"
     ]
    }
   ],
   "source": [
    "print(\"HABNet Datacube Decoder Example\")\n",
    "print(\"=\" * 40)\n",
    "\n",
    "# Set your datacube directory path\n",
    "datacube_dir = \"../Data/processed_datacubes\"  # Update this path\n",
    "\n",
    "# Load all datacubes\n",
    "print(\"\\n1. Loading all datacubes...\")\n",
    "datacubes, summary_df = load_all_datacubes(datacube_dir)\n",
    "\n",
    "print(f\"\\nSummary:\")\n",
    "print(summary_df[['stable_event_id', 'hab_label', 'data_completeness', 'modalities']])\n",
    "\n",
    "# Inspect first datacube in detail\n",
    "if len(datacubes) > 0:\n",
    "    print(\"\\n2. Inspecting first datacube structure...\")\n",
    "    inspect_datacube_structure(datacubes[0])\n",
    "    \n",
    "    # Visualize first datacube\n",
    "    print(\"\\n3. Visualizing first datacube...\")\n",
    "    visualize_datacube(datacubes[0])\n",
    "\n",
    "# Extract features for traditional ML\n",
    "print(\"\\n4. Extracting features for traditional ML...\")\n",
    "features, labels, metadata = extract_features_and_labels(datacubes)\n",
    "\n",
    "# Extract temporal sequences for deep learning\n",
    "print(\"\\n5. Extracting temporal sequences for deep learning...\")\n",
    "sequences, seq_labels = extract_temporal_sequences(datacubes)\n",
    "\n",
    "# Plot distributions\n",
    "print(\"\\n6. Plotting data distributions...\")\n",
    "plot_class_distribution(summary_df)\n",
    "\n",
    "print(\"\\n✅ Data is ready for ML! Your friend can now use:\")\n",
    "print(\"   - features, labels for traditional ML (Random Forest, SVM)\")\n",
    "print(\"   - sequences, seq_labels for deep learning (CNN+LSTM)\")\n"
   ]
  },
  {
   "cell_type": "code",
   "execution_count": 8,
   "id": "84208a6c",
   "metadata": {},
   "outputs": [
    {
     "name": "stdout",
     "output_type": "stream",
     "text": [
      "Found 1368 datacube files\n"
     ]
    }
   ],
   "source": [
    "datacube_dir = \"../Data/processed_datacubes\"  # Update this path\n",
    "\n",
    "datacubes, summary_df = load_all_datacubes(datacube_dir)"
   ]
  },
  {
   "cell_type": "code",
   "execution_count": 9,
   "id": "3287bfe3",
   "metadata": {},
   "outputs": [
    {
     "name": "stdout",
     "output_type": "stream",
     "text": [
      "ML DATA READY\n",
      "Features shape: (1368, 15, 15, 5)\n",
      "Labels shape: (1368,)\n",
      "Class distribution: [663 705] (0=No HAB, 1=HAB)\n"
     ]
    }
   ],
   "source": [
    "features, labels, metadata_list = extract_features_and_labels(datacubes)"
   ]
  },
  {
   "cell_type": "code",
   "execution_count": 10,
   "id": "d36774e7",
   "metadata": {},
   "outputs": [],
   "source": [
    "def data_augment(X_train, y_train):\n",
    "    \n",
    "    augmented_X = []\n",
    "    augmented_y = []\n",
    "    \n",
    "    for x, y in zip(X_train, y_train):\n",
    "        arr = x.copy()\n",
    "        Y = y.copy()\n",
    "        augmented_X.append(x)\n",
    "        augmented_y.append(y)\n",
    "\n",
    "        for i in range(4, 0, -1):\n",
    "            arr[:, :, i:] = 0\n",
    "            augmented_X.append(arr.copy())\n",
    "            augmented_y.append(Y)\n",
    "        \n",
    "    return np.array(augmented_X), np.array(augmented_y)"
   ]
  },
  {
   "cell_type": "code",
   "execution_count": 11,
   "id": "86ea64de",
   "metadata": {},
   "outputs": [],
   "source": [
    "X, y = data_augment(features, labels)"
   ]
  },
  {
   "cell_type": "code",
   "execution_count": 12,
   "id": "554e61b6",
   "metadata": {},
   "outputs": [
    {
     "data": {
      "text/plain": [
       "((6840, 15, 15, 5), (6840,))"
      ]
     },
     "execution_count": 12,
     "metadata": {},
     "output_type": "execute_result"
    }
   ],
   "source": [
    "X.shape, y.shape"
   ]
  },
  {
   "cell_type": "code",
   "execution_count": 13,
   "id": "07b1339d",
   "metadata": {},
   "outputs": [],
   "source": [
    "final_x = []\n",
    "for x in X:\n",
    "    final_x.append(x.flatten())\n",
    "\n",
    "final_x = np.array(final_x)\n",
    "    "
   ]
  },
  {
   "cell_type": "code",
   "execution_count": 14,
   "id": "ca2a67a7",
   "metadata": {},
   "outputs": [
    {
     "data": {
      "text/plain": [
       "(6840, 1125)"
      ]
     },
     "execution_count": 14,
     "metadata": {},
     "output_type": "execute_result"
    }
   ],
   "source": [
    "final_x.shape"
   ]
  },
  {
   "cell_type": "code",
   "execution_count": 15,
   "id": "55774e61",
   "metadata": {},
   "outputs": [],
   "source": [
    "from sklearn.model_selection import train_test_split\n",
    "\n",
    "X_train, X_test, y_train, y_test = train_test_split(final_x, y, test_size=0.2, random_state=42, shuffle = True)"
   ]
  },
  {
   "cell_type": "code",
   "execution_count": 16,
   "id": "b9254bc7",
   "metadata": {},
   "outputs": [],
   "source": [
    "from sklearn.preprocessing import StandardScaler\n",
    "\n",
    "scaler = StandardScaler()\n",
    "\n",
    "X_train = scaler.fit_transform(X_train)\n",
    "X_test = scaler.transform(X_test)"
   ]
  },
  {
   "cell_type": "code",
   "execution_count": 17,
   "id": "f272c15f",
   "metadata": {},
   "outputs": [
    {
     "name": "stdout",
     "output_type": "stream",
     "text": [
      "Accuracy : 0.7624269005847953\n",
      "Report :               precision    recall  f1-score   support\n",
      "\n",
      "           0       0.72      0.85      0.78       688\n",
      "           1       0.82      0.67      0.74       680\n",
      "\n",
      "    accuracy                           0.76      1368\n",
      "   macro avg       0.77      0.76      0.76      1368\n",
      "weighted avg       0.77      0.76      0.76      1368\n",
      "\n",
      "Matrix : [[585 103]\n",
      " [222 458]]\n"
     ]
    },
    {
     "name": "stderr",
     "output_type": "stream",
     "text": [
      "c:\\ProgramData\\Anaconda\\envs\\HAB\\lib\\site-packages\\sklearn\\linear_model\\_logistic.py:465: ConvergenceWarning: lbfgs failed to converge (status=1):\n",
      "STOP: TOTAL NO. OF ITERATIONS REACHED LIMIT.\n",
      "\n",
      "Increase the number of iterations (max_iter) or scale the data as shown in:\n",
      "    https://scikit-learn.org/stable/modules/preprocessing.html\n",
      "Please also refer to the documentation for alternative solver options:\n",
      "    https://scikit-learn.org/stable/modules/linear_model.html#logistic-regression\n",
      "  n_iter_i = _check_optimize_result(\n"
     ]
    }
   ],
   "source": [
    "from sklearn.linear_model import LogisticRegression, RidgeClassifier\n",
    "from sklearn.metrics import accuracy_score, classification_report, confusion_matrix\n",
    "\n",
    "model_1 = LogisticRegression()\n",
    "model_1.fit(X_train, y_train)\n",
    "pred_1 = model_1.predict(X_test)\n",
    "print(f'Accuracy : {accuracy_score(y_test, pred_1)}')\n",
    "print(f'Report : {classification_report(y_test, pred_1)}')\n",
    "print(f'Matrix : {confusion_matrix(y_test, pred_1)}')"
   ]
  },
  {
   "cell_type": "code",
   "execution_count": 18,
   "id": "c115966c",
   "metadata": {},
   "outputs": [
    {
     "name": "stdout",
     "output_type": "stream",
     "text": [
      "Accuracy : 0.7485380116959064\n",
      "Report :               precision    recall  f1-score   support\n",
      "\n",
      "           0       0.70      0.86      0.77       688\n",
      "           1       0.82      0.64      0.72       680\n",
      "\n",
      "    accuracy                           0.75      1368\n",
      "   macro avg       0.76      0.75      0.75      1368\n",
      "weighted avg       0.76      0.75      0.75      1368\n",
      "\n",
      "Matrix : [[592  96]\n",
      " [248 432]]\n"
     ]
    }
   ],
   "source": [
    "model_2 = RidgeClassifier()\n",
    "model_2.fit(X_train, y_train)\n",
    "pred_2 = model_2.predict(X_test)\n",
    "\n",
    "print(f'Accuracy : {accuracy_score(y_test, pred_2)}')\n",
    "print(f'Report : {classification_report(y_test, pred_2)}')\n",
    "print(f'Matrix : {confusion_matrix(y_test, pred_2)}')"
   ]
  },
  {
   "cell_type": "code",
   "execution_count": 19,
   "id": "062ab242",
   "metadata": {},
   "outputs": [],
   "source": [
    "models = {'Model Name': [],\n",
    "          'Accuracy' : [],\n",
    "          'Model' : []}\n",
    "\n",
    "models['Model Name'].append('Logistic Regression')\n",
    "models['Accuracy'].append(accuracy_score(y_test, pred_1))\n",
    "models['Model'].append(model_1)\n",
    "\n",
    "models['Model Name'].append('Ridge Classifier')\n",
    "models['Accuracy'].append(accuracy_score(y_test, pred_2))\n",
    "models['Model'].append(model_2)"
   ]
  },
  {
   "cell_type": "code",
   "execution_count": 20,
   "id": "f799f338",
   "metadata": {},
   "outputs": [
    {
     "name": "stdout",
     "output_type": "stream",
     "text": [
      "Accuracy : 0.9152046783625731\n",
      "Report :               precision    recall  f1-score   support\n",
      "\n",
      "           0       0.94      0.88      0.91       688\n",
      "           1       0.89      0.95      0.92       680\n",
      "\n",
      "    accuracy                           0.92      1368\n",
      "   macro avg       0.92      0.92      0.92      1368\n",
      "weighted avg       0.92      0.92      0.92      1368\n",
      "\n",
      "Matrix : [[608  80]\n",
      " [ 36 644]]\n"
     ]
    }
   ],
   "source": [
    "from sklearn.tree import DecisionTreeClassifier\n",
    "model_4 = DecisionTreeClassifier()\n",
    "model_4.fit(X_train, y_train)\n",
    "pred_4 = model_4.predict(X_test)\n",
    "print(f'Accuracy : {accuracy_score(y_test, pred_4)}')\n",
    "print(f'Report : {classification_report(y_test, pred_4)}')\n",
    "print(f'Matrix : {confusion_matrix(y_test, pred_4)}')\n",
    "\n",
    "models['Model Name'].append('Decision Tree')\n",
    "models['Accuracy'].append(accuracy_score(y_test, pred_4))\n",
    "models['Model'].append(model_4)"
   ]
  },
  {
   "cell_type": "code",
   "execution_count": 21,
   "id": "123e9fcf",
   "metadata": {},
   "outputs": [
    {
     "name": "stdout",
     "output_type": "stream",
     "text": [
      "Accuracy : 0.9298245614035088\n",
      "Report :               precision    recall  f1-score   support\n",
      "\n",
      "           0       0.97      0.89      0.93       688\n",
      "           1       0.90      0.97      0.93       680\n",
      "\n",
      "    accuracy                           0.93      1368\n",
      "   macro avg       0.93      0.93      0.93      1368\n",
      "weighted avg       0.93      0.93      0.93      1368\n",
      "\n",
      "Matrix : [[613  75]\n",
      " [ 21 659]]\n"
     ]
    }
   ],
   "source": [
    "from sklearn.ensemble import RandomForestClassifier\n",
    "model_5 = RandomForestClassifier()\n",
    "model_5.fit(X_train, y_train)\n",
    "pred_5 = model_5.predict(X_test)\n",
    "print(f'Accuracy : {accuracy_score(y_test, pred_5)}')\n",
    "print(f'Report : {classification_report(y_test, pred_5)}')\n",
    "print(f'Matrix : {confusion_matrix(y_test, pred_5)}')\n",
    "\n",
    "models['Model Name'].append('RAndom Forest')\n",
    "models['Accuracy'].append(accuracy_score(y_test, pred_5))\n",
    "models['Model'].append(model_5)"
   ]
  },
  {
   "cell_type": "code",
   "execution_count": 22,
   "id": "f4fcecc5",
   "metadata": {},
   "outputs": [
    {
     "name": "stdout",
     "output_type": "stream",
     "text": [
      "Accuracy : 0.9473684210526315\n",
      "Report :               precision    recall  f1-score   support\n",
      "\n",
      "           0       0.98      0.91      0.95       688\n",
      "           1       0.92      0.98      0.95       680\n",
      "\n",
      "    accuracy                           0.95      1368\n",
      "   macro avg       0.95      0.95      0.95      1368\n",
      "weighted avg       0.95      0.95      0.95      1368\n",
      "\n",
      "Matrix : [[627  61]\n",
      " [ 11 669]]\n"
     ]
    }
   ],
   "source": [
    "from xgboost import XGBClassifier\n",
    "\n",
    "model_6 = XGBClassifier()\n",
    "model_6.fit(X_train, y_train)\n",
    "pred_6 = model_6.predict(X_test)\n",
    "print(f'Accuracy : {accuracy_score(y_test, pred_6)}')\n",
    "print(f'Report : {classification_report(y_test, pred_6)}')\n",
    "print(f'Matrix : {confusion_matrix(y_test, pred_6)}')\n",
    "\n",
    "models['Model Name'].append('XGBoost')\n",
    "models['Accuracy'].append(accuracy_score(y_test, pred_6))\n",
    "models['Model'].append(model_6)"
   ]
  },
  {
   "cell_type": "code",
   "execution_count": 23,
   "id": "bb29b91c",
   "metadata": {},
   "outputs": [
    {
     "name": "stdout",
     "output_type": "stream",
     "text": [
      "TEMPORAL SEQUENCES READY\n",
      "Sequences shape: (1368, 15, 15, 5) (samples, spatial_x, spatial_y, temporal)\n",
      "Labels shape: (1368,)\n"
     ]
    }
   ],
   "source": [
    "sequences, seq_labels = extract_temporal_sequences(datacubes, 'chlor_a')"
   ]
  },
  {
   "cell_type": "code",
   "execution_count": 24,
   "id": "5d1b49fd",
   "metadata": {},
   "outputs": [],
   "source": [
    "X, y = data_augment(sequences, seq_labels)"
   ]
  },
  {
   "cell_type": "code",
   "execution_count": 25,
   "id": "6a5bc9fe",
   "metadata": {},
   "outputs": [],
   "source": [
    "X_train, X_test, y_train, y_test = train_test_split(X, y, test_size=0.2, random_state=42, shuffle = True)\n",
    "X_val, X_test, y_val, y_test = train_test_split(X_test, y_test, test_size=0.5, random_state=42, shuffle = True)"
   ]
  },
  {
   "cell_type": "code",
   "execution_count": null,
   "id": "b6069b3b",
   "metadata": {},
   "outputs": [],
   "source": [
    "import tensorflow as tf\n",
    "from tensorflow.keras.models import Sequential\n",
    "from tensorflow.keras.layers import Conv2D, LSTM, Dense, Flatten, TimeDistributed, Dropout\n",
    "from tensorflow.keras.utils import to_categorical"
   ]
  },
  {
   "cell_type": "markdown",
   "id": "ab144f8d",
   "metadata": {},
   "source": [
    "### Binary Classification"
   ]
  },
  {
   "cell_type": "code",
   "execution_count": null,
   "id": "cd45296b",
   "metadata": {},
   "outputs": [
    {
     "name": "stderr",
     "output_type": "stream",
     "text": [
      "c:\\ProgramData\\Anaconda\\envs\\HAB\\lib\\site-packages\\keras\\src\\layers\\core\\wrapper.py:27: UserWarning: Do not pass an `input_shape`/`input_dim` argument to a layer. When using Sequential models, prefer using an `Input(shape)` object as the first layer in the model instead.\n",
      "  super().__init__(**kwargs)\n"
     ]
    },
    {
     "name": "stdout",
     "output_type": "stream",
     "text": [
      "Epoch 1/20\n",
      "\u001b[1m342/342\u001b[0m \u001b[32m━━━━━━━━━━━━━━━━━━━━\u001b[0m\u001b[37m\u001b[0m \u001b[1m37s\u001b[0m 92ms/step - accuracy: 0.5971 - loss: 0.6665 - val_accuracy: 0.7222 - val_loss: 0.5685\n",
      "Epoch 2/20\n",
      "\u001b[1m342/342\u001b[0m \u001b[32m━━━━━━━━━━━━━━━━━━━━\u001b[0m\u001b[37m\u001b[0m \u001b[1m30s\u001b[0m 87ms/step - accuracy: 0.7093 - loss: 0.5553 - val_accuracy: 0.7471 - val_loss: 0.4831\n",
      "Epoch 3/20\n",
      "\u001b[1m342/342\u001b[0m \u001b[32m━━━━━━━━━━━━━━━━━━━━\u001b[0m\u001b[37m\u001b[0m \u001b[1m32s\u001b[0m 93ms/step - accuracy: 0.7948 - loss: 0.4360 - val_accuracy: 0.8246 - val_loss: 0.3924\n",
      "Epoch 4/20\n",
      "\u001b[1m342/342\u001b[0m \u001b[32m━━━━━━━━━━━━━━━━━━━━\u001b[0m\u001b[37m\u001b[0m \u001b[1m31s\u001b[0m 91ms/step - accuracy: 0.8650 - loss: 0.2982 - val_accuracy: 0.8684 - val_loss: 0.3242\n",
      "Epoch 5/20\n",
      "\u001b[1m342/342\u001b[0m \u001b[32m━━━━━━━━━━━━━━━━━━━━\u001b[0m\u001b[37m\u001b[0m \u001b[1m32s\u001b[0m 92ms/step - accuracy: 0.9061 - loss: 0.2023 - val_accuracy: 0.8743 - val_loss: 0.2757\n",
      "Epoch 6/20\n",
      "\u001b[1m342/342\u001b[0m \u001b[32m━━━━━━━━━━━━━━━━━━━━\u001b[0m\u001b[37m\u001b[0m \u001b[1m33s\u001b[0m 97ms/step - accuracy: 0.9321 - loss: 0.1425 - val_accuracy: 0.8787 - val_loss: 0.2464\n",
      "Epoch 7/20\n",
      "\u001b[1m342/342\u001b[0m \u001b[32m━━━━━━━━━━━━━━━━━━━━\u001b[0m\u001b[37m\u001b[0m \u001b[1m29s\u001b[0m 85ms/step - accuracy: 0.9403 - loss: 0.1224 - val_accuracy: 0.8640 - val_loss: 0.2753\n",
      "Epoch 8/20\n",
      "\u001b[1m342/342\u001b[0m \u001b[32m━━━━━━━━━━━━━━━━━━━━\u001b[0m\u001b[37m\u001b[0m \u001b[1m29s\u001b[0m 84ms/step - accuracy: 0.9401 - loss: 0.1156 - val_accuracy: 0.8801 - val_loss: 0.2716\n",
      "Epoch 9/20\n",
      "\u001b[1m342/342\u001b[0m \u001b[32m━━━━━━━━━━━━━━━━━━━━\u001b[0m\u001b[37m\u001b[0m \u001b[1m29s\u001b[0m 85ms/step - accuracy: 0.9420 - loss: 0.1080 - val_accuracy: 0.8582 - val_loss: 0.3472\n",
      "Epoch 10/20\n",
      "\u001b[1m342/342\u001b[0m \u001b[32m━━━━━━━━━━━━━━━━━━━━\u001b[0m\u001b[37m\u001b[0m \u001b[1m28s\u001b[0m 82ms/step - accuracy: 0.9451 - loss: 0.1011 - val_accuracy: 0.8816 - val_loss: 0.2767\n",
      "Epoch 11/20\n",
      "\u001b[1m342/342\u001b[0m \u001b[32m━━━━━━━━━━━━━━━━━━━━\u001b[0m\u001b[37m\u001b[0m \u001b[1m28s\u001b[0m 81ms/step - accuracy: 0.9475 - loss: 0.0852 - val_accuracy: 0.8787 - val_loss: 0.2902\n",
      "Epoch 12/20\n",
      "\u001b[1m342/342\u001b[0m \u001b[32m━━━━━━━━━━━━━━━━━━━━\u001b[0m\u001b[37m\u001b[0m \u001b[1m28s\u001b[0m 81ms/step - accuracy: 0.9518 - loss: 0.0820 - val_accuracy: 0.8728 - val_loss: 0.3052\n",
      "Epoch 13/20\n",
      "\u001b[1m342/342\u001b[0m \u001b[32m━━━━━━━━━━━━━━━━━━━━\u001b[0m\u001b[37m\u001b[0m \u001b[1m28s\u001b[0m 83ms/step - accuracy: 0.9479 - loss: 0.0949 - val_accuracy: 0.8787 - val_loss: 0.3371\n",
      "Epoch 14/20\n",
      "\u001b[1m342/342\u001b[0m \u001b[32m━━━━━━━━━━━━━━━━━━━━\u001b[0m\u001b[37m\u001b[0m \u001b[1m28s\u001b[0m 83ms/step - accuracy: 0.9380 - loss: 0.1203 - val_accuracy: 0.8933 - val_loss: 0.2630\n",
      "Epoch 15/20\n",
      "\u001b[1m342/342\u001b[0m \u001b[32m━━━━━━━━━━━━━━━━━━━━\u001b[0m\u001b[37m\u001b[0m \u001b[1m28s\u001b[0m 82ms/step - accuracy: 0.9502 - loss: 0.0887 - val_accuracy: 0.8904 - val_loss: 0.2689\n",
      "Epoch 16/20\n",
      "\u001b[1m342/342\u001b[0m \u001b[32m━━━━━━━━━━━━━━━━━━━━\u001b[0m\u001b[37m\u001b[0m \u001b[1m28s\u001b[0m 83ms/step - accuracy: 0.9554 - loss: 0.0716 - val_accuracy: 0.9020 - val_loss: 0.2688\n",
      "Epoch 17/20\n",
      "\u001b[1m342/342\u001b[0m \u001b[32m━━━━━━━━━━━━━━━━━━━━\u001b[0m\u001b[37m\u001b[0m \u001b[1m28s\u001b[0m 82ms/step - accuracy: 0.9535 - loss: 0.0733 - val_accuracy: 0.9035 - val_loss: 0.2989\n",
      "Epoch 18/20\n",
      "\u001b[1m342/342\u001b[0m \u001b[32m━━━━━━━━━━━━━━━━━━━━\u001b[0m\u001b[37m\u001b[0m \u001b[1m30s\u001b[0m 89ms/step - accuracy: 0.9624 - loss: 0.0676 - val_accuracy: 0.8933 - val_loss: 0.3216\n",
      "Epoch 19/20\n",
      "\u001b[1m342/342\u001b[0m \u001b[32m━━━━━━━━━━━━━━━━━━━━\u001b[0m\u001b[37m\u001b[0m \u001b[1m29s\u001b[0m 85ms/step - accuracy: 0.9580 - loss: 0.0697 - val_accuracy: 0.8947 - val_loss: 0.2943\n",
      "Epoch 20/20\n",
      "\u001b[1m342/342\u001b[0m \u001b[32m━━━━━━━━━━━━━━━━━━━━\u001b[0m\u001b[37m\u001b[0m \u001b[1m29s\u001b[0m 84ms/step - accuracy: 0.9593 - loss: 0.0678 - val_accuracy: 0.8918 - val_loss: 0.3227\n"
     ]
    }
   ],
   "source": [
    "model = Sequential()\n",
    "model.add(TimeDistributed(Conv2D(64, (3, 3), activation='relu'), input_shape=(X_train.shape[1], X_train.shape[2], X_train.shape[3], 1)))\n",
    "model.add(TimeDistributed(Flatten()))\n",
    "model.add(LSTM(150, return_sequences=True))\n",
    "model.add(Flatten())\n",
    "model.add(Dropout(0.2))\n",
    "model.add(Dense(20, activation='relu'))\n",
    "model.add(Dense(1, activation='sigmoid'))\n",
    "\n",
    "model.compile(optimizer='adam', loss='binary_crossentropy', metrics=['accuracy'])\n",
    "history = model.fit(X_train, y_train, epochs=20, batch_size=16, validation_data=(X_val, y_val))"
   ]
  },
  {
   "cell_type": "code",
   "execution_count": null,
   "metadata": {},
   "outputs": [
    {
     "data": {
      "image/png": "[encoded data removed]",
      "text/plain": [
       "<Figure size 640x480 with 1 Axes>"
      ]
     },
     "metadata": {},
     "output_type": "display_data"
    }
   ],
   "source": [
    "import matplotlib.pyplot as plt \n",
    "\n",
    "plt.plot(history.history['accuracy'])\n",
    "plt.plot(history.history['val_accuracy'])\n",
    "plt.title('model accuracy')\n",
    "plt.ylabel('accuracy')\n",
    "plt.xlabel('epoch')\n",
    "plt.legend(['train', 'val'], loc='upper left')\n",
    "plt.show()"
   ]
  },
  {
   "cell_type": "code",
   "execution_count": null,
   "metadata": {},
   "outputs": [
    {
     "name": "stdout",
     "output_type": "stream",
     "text": [
      "\u001b[1m22/22\u001b[0m \u001b[32m━━━━━━━━━━━━━━━━━━━━\u001b[0m\u001b[37m\u001b[0m \u001b[1m2s\u001b[0m 56ms/step\n",
      "\u001b[1m22/22\u001b[0m \u001b[32m━━━━━━━━━━━━━━━━━━━━\u001b[0m\u001b[37m\u001b[0m \u001b[1m1s\u001b[0m 23ms/step - accuracy: 0.8748 - loss: 0.6083\n",
      "Accuracy : 88.45029473304749%\n"
     ]
    }
   ],
   "source": [
    "pred = model.predict(X_test)\n",
    "scores = model.evaluate(X_test, y_test)\n",
    "\n",
    "models['Model Name'].append('CNN + LSTM 1')\n",
    "models['Accuracy'].append(scores[1])\n",
    "models['Model'].append(model)\n",
    "\n",
    "print(f'Accuracy : {scores[1]*100}%')"
   ]
  },
  {
   "cell_type": "markdown",
   "id": "66b90715",
   "metadata": {},
   "source": [
    "### Multi Class Output"
   ]
  },
  {
   "cell_type": "code",
   "execution_count": 30,
   "metadata": {},
   "outputs": [],
   "source": [
    "y_train = to_categorical(y_train)\n",
    "y_val = to_categorical(y_val)\n",
    "y_test = to_categorical(y_test)"
   ]
  },
  {
   "cell_type": "code",
   "execution_count": 31,
   "metadata": {},
   "outputs": [
    {
     "name": "stdout",
     "output_type": "stream",
     "text": [
      "Epoch 1/20\n",
      "\u001b[1m342/342\u001b[0m \u001b[32m━━━━━━━━━━━━━━━━━━━━\u001b[0m\u001b[37m\u001b[0m \u001b[1m36s\u001b[0m 90ms/step - accuracy: 0.6043 - loss: 0.6746 - val_accuracy: 0.6754 - val_loss: 0.5890\n",
      "Epoch 2/20\n",
      "\u001b[1m342/342\u001b[0m \u001b[32m━━━━━━━━━━━━━━━━━━━━\u001b[0m\u001b[37m\u001b[0m \u001b[1m29s\u001b[0m 83ms/step - accuracy: 0.7039 - loss: 0.5599 - val_accuracy: 0.7734 - val_loss: 0.5022\n",
      "Epoch 3/20\n",
      "\u001b[1m342/342\u001b[0m \u001b[32m━━━━━━━━━━━━━━━━━━━━\u001b[0m\u001b[37m\u001b[0m \u001b[1m29s\u001b[0m 85ms/step - accuracy: 0.7989 - loss: 0.4273 - val_accuracy: 0.8333 - val_loss: 0.3958\n",
      "Epoch 4/20\n",
      "\u001b[1m342/342\u001b[0m \u001b[32m━━━━━━━━━━━━━━━━━━━━\u001b[0m\u001b[37m\u001b[0m \u001b[1m28s\u001b[0m 82ms/step - accuracy: 0.8701 - loss: 0.2952 - val_accuracy: 0.8436 - val_loss: 0.3166\n",
      "Epoch 5/20\n",
      "\u001b[1m342/342\u001b[0m \u001b[32m━━━━━━━━━━━━━━━━━━━━\u001b[0m\u001b[37m\u001b[0m \u001b[1m36s\u001b[0m 104ms/step - accuracy: 0.9102 - loss: 0.1964 - val_accuracy: 0.8626 - val_loss: 0.2597\n",
      "Epoch 6/20\n",
      "\u001b[1m342/342\u001b[0m \u001b[32m━━━━━━━━━━━━━━━━━━━━\u001b[0m\u001b[37m\u001b[0m \u001b[1m42s\u001b[0m 123ms/step - accuracy: 0.9149 - loss: 0.1721 - val_accuracy: 0.8904 - val_loss: 0.2599\n",
      "Epoch 7/20\n",
      "\u001b[1m342/342\u001b[0m \u001b[32m━━━━━━━━━━━━━━━━━━━━\u001b[0m\u001b[37m\u001b[0m \u001b[1m35s\u001b[0m 102ms/step - accuracy: 0.9350 - loss: 0.1271 - val_accuracy: 0.8904 - val_loss: 0.2424\n",
      "Epoch 8/20\n",
      "\u001b[1m342/342\u001b[0m \u001b[32m━━━━━━━━━━━━━━━━━━━━\u001b[0m\u001b[37m\u001b[0m \u001b[1m33s\u001b[0m 96ms/step - accuracy: 0.9418 - loss: 0.1131 - val_accuracy: 0.8816 - val_loss: 0.2760\n",
      "Epoch 9/20\n",
      "\u001b[1m342/342\u001b[0m \u001b[32m━━━━━━━━━━━━━━━━━━━━\u001b[0m\u001b[37m\u001b[0m \u001b[1m30s\u001b[0m 88ms/step - accuracy: 0.9423 - loss: 0.1147 - val_accuracy: 0.8933 - val_loss: 0.2662\n",
      "Epoch 10/20\n",
      "\u001b[1m342/342\u001b[0m \u001b[32m━━━━━━━━━━━━━━━━━━━━\u001b[0m\u001b[37m\u001b[0m \u001b[1m29s\u001b[0m 86ms/step - accuracy: 0.9391 - loss: 0.1127 - val_accuracy: 0.8363 - val_loss: 0.5116\n",
      "Epoch 11/20\n",
      "\u001b[1m342/342\u001b[0m \u001b[32m━━━━━━━━━━━━━━━━━━━━\u001b[0m\u001b[37m\u001b[0m \u001b[1m30s\u001b[0m 86ms/step - accuracy: 0.9436 - loss: 0.1105 - val_accuracy: 0.8991 - val_loss: 0.2587\n",
      "Epoch 12/20\n",
      "\u001b[1m342/342\u001b[0m \u001b[32m━━━━━━━━━━━━━━━━━━━━\u001b[0m\u001b[37m\u001b[0m \u001b[1m29s\u001b[0m 85ms/step - accuracy: 0.9398 - loss: 0.1027 - val_accuracy: 0.8860 - val_loss: 0.2868\n",
      "Epoch 13/20\n",
      "\u001b[1m342/342\u001b[0m \u001b[32m━━━━━━━━━━━━━━━━━━━━\u001b[0m\u001b[37m\u001b[0m \u001b[1m30s\u001b[0m 87ms/step - accuracy: 0.9400 - loss: 0.1009 - val_accuracy: 0.9020 - val_loss: 0.2945\n",
      "Epoch 14/20\n",
      "\u001b[1m342/342\u001b[0m \u001b[32m━━━━━━━━━━━━━━━━━━━━\u001b[0m\u001b[37m\u001b[0m \u001b[1m30s\u001b[0m 88ms/step - accuracy: 0.9527 - loss: 0.0815 - val_accuracy: 0.8787 - val_loss: 0.3476\n",
      "Epoch 15/20\n",
      "\u001b[1m342/342\u001b[0m \u001b[32m━━━━━━━━━━━━━━━━━━━━\u001b[0m\u001b[37m\u001b[0m \u001b[1m30s\u001b[0m 88ms/step - accuracy: 0.9503 - loss: 0.0823 - val_accuracy: 0.8962 - val_loss: 0.2969\n",
      "Epoch 16/20\n",
      "\u001b[1m342/342\u001b[0m \u001b[32m━━━━━━━━━━━━━━━━━━━━\u001b[0m\u001b[37m\u001b[0m \u001b[1m31s\u001b[0m 89ms/step - accuracy: 0.9552 - loss: 0.0709 - val_accuracy: 0.8889 - val_loss: 0.3551\n",
      "Epoch 17/20\n",
      "\u001b[1m342/342\u001b[0m \u001b[32m━━━━━━━━━━━━━━━━━━━━\u001b[0m\u001b[37m\u001b[0m \u001b[1m30s\u001b[0m 88ms/step - accuracy: 0.9515 - loss: 0.0896 - val_accuracy: 0.8684 - val_loss: 0.2963\n",
      "Epoch 18/20\n",
      "\u001b[1m342/342\u001b[0m \u001b[32m━━━━━━━━━━━━━━━━━━━━\u001b[0m\u001b[37m\u001b[0m \u001b[1m29s\u001b[0m 86ms/step - accuracy: 0.9503 - loss: 0.0868 - val_accuracy: 0.8860 - val_loss: 0.3414\n",
      "Epoch 19/20\n",
      "\u001b[1m342/342\u001b[0m \u001b[32m━━━━━━━━━━━━━━━━━━━━\u001b[0m\u001b[37m\u001b[0m \u001b[1m31s\u001b[0m 89ms/step - accuracy: 0.9562 - loss: 0.0844 - val_accuracy: 0.8816 - val_loss: 0.2665\n",
      "Epoch 20/20\n",
      "\u001b[1m342/342\u001b[0m \u001b[32m━━━━━━━━━━━━━━━━━━━━\u001b[0m\u001b[37m\u001b[0m \u001b[1m29s\u001b[0m 85ms/step - accuracy: 0.9543 - loss: 0.0778 - val_accuracy: 0.8991 - val_loss: 0.2760\n"
     ]
    }
   ],
   "source": [
    "model_ = Sequential()\n",
    "model_.add(TimeDistributed(Conv2D(64, (3, 3), activation='relu'), input_shape=(X_train.shape[1], X_train.shape[2], X_train.shape[3], 1)))\n",
    "model_.add(TimeDistributed(Flatten()))\n",
    "model_.add(LSTM(150, return_sequences=True))\n",
    "model_.add(Flatten())\n",
    "model_.add(Dropout(0.2))\n",
    "model_.add(Dense(20, activation='relu'))\n",
    "model_.add(Dense(2, activation='softmax'))\n",
    "\n",
    "model_.compile(optimizer='adam', loss='categorical_crossentropy', metrics=['accuracy'])\n",
    "history = model_.fit(X_train, y_train, epochs=20, batch_size=16, validation_data=(X_val, y_val))"
   ]
  },
  {
   "cell_type": "code",
   "execution_count": null,
   "id": "16d4a1d0",
   "metadata": {},
   "outputs": [],
   "source": [
    "model_.summary()"
   ]
  },
  {
   "cell_type": "code",
   "execution_count": null,
   "id": "4170bebc",
   "metadata": {},
   "outputs": [
    {
     "data": {
      "image/png": "[encoded data removed]",
      "text/plain": [
       "<Figure size 640x480 with 1 Axes>"
      ]
     },
     "metadata": {},
     "output_type": "display_data"
    }
   ],
   "source": [
    "plt.plot(history.history['accuracy'])\n",
    "plt.plot(history.history['val_accuracy'])\n",
    "plt.title('model accuracy')\n",
    "plt.ylabel('accuracy')\n",
    "plt.xlabel('epoch')\n",
    "plt.legend(['train', 'val'], loc='upper left')\n",
    "plt.show()"
   ]
  },
  {
   "cell_type": "code",
   "execution_count": 47,
   "metadata": {},
   "outputs": [
    {
     "data": {
      "text/html": [
       "<div>\n",
       "<style scoped>\n",
       "    .dataframe tbody tr th:only-of-type {\n",
       "        vertical-align: middle;\n",
       "    }\n",
       "\n",
       "    .dataframe tbody tr th {\n",
       "        vertical-align: top;\n",
       "    }\n",
       "\n",
       "    .dataframe thead th {\n",
       "        text-align: right;\n",
       "    }\n",
       "</style>\n",
       "<table border=\"1\" class=\"dataframe\">\n",
       "  <thead>\n",
       "    <tr style=\"text-align: right;\">\n",
       "      <th></th>\n",
       "      <th>Model Name</th>\n",
       "      <th>Accuracy</th>\n",
       "      <th>Model</th>\n",
       "    </tr>\n",
       "  </thead>\n",
       "  <tbody>\n",
       "    <tr>\n",
       "      <th>0</th>\n",
       "      <td>Logistic Regression</td>\n",
       "      <td>0.762427</td>\n",
       "      <td>LogisticRegression()</td>\n",
       "    </tr>\n",
       "    <tr>\n",
       "      <th>1</th>\n",
       "      <td>Ridge Classifier</td>\n",
       "      <td>0.748538</td>\n",
       "      <td>RidgeClassifier()</td>\n",
       "    </tr>\n",
       "    <tr>\n",
       "      <th>2</th>\n",
       "      <td>Decision Tree</td>\n",
       "      <td>0.915205</td>\n",
       "      <td>DecisionTreeClassifier()</td>\n",
       "    </tr>\n",
       "    <tr>\n",
       "      <th>3</th>\n",
       "      <td>RAndom Forest</td>\n",
       "      <td>0.929825</td>\n",
       "      <td>(DecisionTreeClassifier(max_features='sqrt', r...</td>\n",
       "    </tr>\n",
       "    <tr>\n",
       "      <th>4</th>\n",
       "      <td>XGBoost</td>\n",
       "      <td>0.947368</td>\n",
       "      <td>XGBClassifier(base_score=None, booster=None, c...</td>\n",
       "    </tr>\n",
       "    <tr>\n",
       "      <th>5</th>\n",
       "      <td>CNN + LSTM 1</td>\n",
       "      <td>0.884502</td>\n",
       "      <td>&lt;Sequential name=sequential, built=True&gt;</td>\n",
       "    </tr>\n",
       "    <tr>\n",
       "      <th>6</th>\n",
       "      <td>CNN + LSTM 2</td>\n",
       "      <td>0.900584</td>\n",
       "      <td>&lt;Sequential name=sequential_1, built=True&gt;</td>\n",
       "    </tr>\n",
       "  </tbody>\n",
       "</table>\n",
       "</div>"
      ],
      "text/plain": [
       "            Model Name  Accuracy  \\\n",
       "0  Logistic Regression  0.762427   \n",
       "1     Ridge Classifier  0.748538   \n",
       "2        Decision Tree  0.915205   \n",
       "3        RAndom Forest  0.929825   \n",
       "4              XGBoost  0.947368   \n",
       "5         CNN + LSTM 1  0.884502   \n",
       "6         CNN + LSTM 2  0.900584   \n",
       "\n",
       "                                               Model  \n",
       "0                               LogisticRegression()  \n",
       "1                                  RidgeClassifier()  \n",
       "2                           DecisionTreeClassifier()  \n",
       "3  (DecisionTreeClassifier(max_features='sqrt', r...  \n",
       "4  XGBClassifier(base_score=None, booster=None, c...  \n",
       "5           <Sequential name=sequential, built=True>  \n",
       "6         <Sequential name=sequential_1, built=True>  "
      ]
     },
     "execution_count": 47,
     "metadata": {},
     "output_type": "execute_result"
    }
   ],
   "source": [
    "models = pd.DataFrame(models)\n",
    "models"
   ]
  }
 ],
 "metadata": {
  "kernelspec": {
   "display_name": "HAB",
   "language": "python",
   "name": "python3"
  },
  "language_info": {
   "codemirror_mode": {
    "name": "ipython",
    "version": 3
   },
   "file_extension": ".py",
   "mimetype": "text/x-python",
   "name": "python",
   "nbconvert_exporter": "python",
   "pygments_lexer": "ipython3",
   "version": "3.10.0"
  }
 },
 "nbformat": 4,
 "nbformat_minor": 5
}
