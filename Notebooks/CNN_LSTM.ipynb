{
 "cells": [
  {
   "cell_type": "markdown",
   "id": "98610be2",
   "metadata": {
    "papermill": {
     "duration": 0.003726,
     "end_time": "2025-07-29T11:48:47.925613",
     "exception": false,
     "start_time": "2025-07-29T11:48:47.921887",
     "status": "completed"
    },
    "tags": []
   },
   "source": [
    "## Imports"
   ]
  },
  {
   "cell_type": "code",
   "execution_count": 1,
   "id": "e2fafe0d",
   "metadata": {
    "execution": {
     "iopub.execute_input": "2025-07-29T11:48:47.934059Z",
     "iopub.status.busy": "2025-07-29T11:48:47.933515Z",
     "iopub.status.idle": "2025-07-29T11:49:03.078722Z",
     "shell.execute_reply": "2025-07-29T11:49:03.078096Z"
    },
    "papermill": {
     "duration": 15.150847,
     "end_time": "2025-07-29T11:49:03.080087",
     "exception": false,
     "start_time": "2025-07-29T11:48:47.929240",
     "status": "completed"
    },
    "tags": []
   },
   "outputs": [
    {
     "name": "stderr",
     "output_type": "stream",
     "text": [
      "2025-07-29 11:48:51.140878: E external/local_xla/xla/stream_executor/cuda/cuda_fft.cc:477] Unable to register cuFFT factory: Attempting to register factory for plugin cuFFT when one has already been registered\n",
      "WARNING: All log messages before absl::InitializeLog() is called are written to STDERR\n",
      "E0000 00:00:1753789731.348996      19 cuda_dnn.cc:8310] Unable to register cuDNN factory: Attempting to register factory for plugin cuDNN when one has already been registered\n",
      "E0000 00:00:1753789731.413226      19 cuda_blas.cc:1418] Unable to register cuBLAS factory: Attempting to register factory for plugin cuBLAS when one has already been registered\n"
     ]
    }
   ],
   "source": [
    "import random\n",
    "import os\n",
    "import numpy as np\n",
    "import time\n",
    "import matplotlib.pyplot as plt\n",
    "from PIL import Image\n",
    "import cv2\n",
    "from sklearn.model_selection import train_test_split\n",
    "from sklearn.metrics import classification_report, confusion_matrix, ConfusionMatrixDisplay\n",
    "from tensorflow.keras.models import Model\n",
    "from tensorflow.keras.layers import Input, Conv3D, MaxPooling3D, Flatten, Dense, Dropout, BatchNormalization, TimeDistributed, Conv2D, MaxPooling2D, LSTM\n",
    "from tensorflow.keras.optimizers import Adam\n",
    "from tensorflow.keras.utils import to_categorical"
   ]
  },
  {
   "cell_type": "markdown",
   "id": "b68bdb54",
   "metadata": {
    "papermill": {
     "duration": 0.003608,
     "end_time": "2025-07-29T11:49:03.100457",
     "exception": false,
     "start_time": "2025-07-29T11:49:03.096849",
     "status": "completed"
    },
    "tags": []
   },
   "source": [
    "##  Config for tier-1 "
   ]
  },
  {
   "cell_type": "code",
   "execution_count": 3,
   "id": "2cbd0afd",
   "metadata": {
    "execution": {
     "iopub.execute_input": "2025-07-29T11:49:03.108759Z",
     "iopub.status.busy": "2025-07-29T11:49:03.108405Z",
     "iopub.status.idle": "2025-07-29T11:49:03.111840Z",
     "shell.execute_reply": "2025-07-29T11:49:03.111193Z"
    },
    "papermill": {
     "duration": 0.008727,
     "end_time": "2025-07-29T11:49:03.112932",
     "exception": false,
     "start_time": "2025-07-29T11:49:03.104205",
     "status": "completed"
    },
    "tags": []
   },
   "outputs": [],
   "source": [
    "N_MODALITIES = 3\n",
    "N_DAYS = 10\n",
    "IMG_SIZE = (64, 64)\n",
    "DATA_DIR = \"/kaggle/input/data-3k/data_set_3K\"\n",
    "MAX_SAMPLES_PER_CLASS = {'0':200, '1':200}"
   ]
  },
  {
   "cell_type": "markdown",
   "id": "4692f16b",
   "metadata": {
    "papermill": {
     "duration": 0.004185,
     "end_time": "2025-07-29T11:49:03.120853",
     "exception": false,
     "start_time": "2025-07-29T11:49:03.116668",
     "status": "completed"
    },
    "tags": []
   },
   "source": [
    "## Data Loading"
   ]
  },
  {
   "cell_type": "code",
   "execution_count": 4,
   "id": "66f2550e",
   "metadata": {
    "execution": {
     "iopub.execute_input": "2025-07-29T11:49:03.129022Z",
     "iopub.status.busy": "2025-07-29T11:49:03.128823Z",
     "iopub.status.idle": "2025-07-29T11:49:03.135063Z",
     "shell.execute_reply": "2025-07-29T11:49:03.134418Z"
    },
    "papermill": {
     "duration": 0.011665,
     "end_time": "2025-07-29T11:49:03.136165",
     "exception": false,
     "start_time": "2025-07-29T11:49:03.124500",
     "status": "completed"
    },
    "tags": []
   },
   "outputs": [],
   "source": [
    "def load_data(DATA_DIR, samples_per_class):\n",
    "    X_raw, y = [], []\n",
    "    for label, max_samples in samples_per_class.items():\n",
    "        label_path = os.path.join(DATA_DIR, label)\n",
    "        sample_folders = sorted(os.listdir(label_path))\n",
    "        random.shuffle(sample_folders)  # Shuffle for randomness!\n",
    "        count = 0\n",
    "\n",
    "        for sample_id in sample_folders:\n",
    "            if count >= max_samples:\n",
    "                break\n",
    "            sample_path = os.path.join(label_path, sample_id)\n",
    "            modalities = sorted(os.listdir(sample_path))[:N_MODALITIES]\n",
    "            cube = []\n",
    "\n",
    "            for mod in modalities:\n",
    "                mod_path = os.path.join(sample_path, mod)\n",
    "                day_images = []\n",
    "                for d in range(1, N_DAYS + 1):\n",
    "                    img_path = os.path.join(mod_path, f\"{str(d).zfill(2)}.png\")\n",
    "                    if os.path.exists(img_path):\n",
    "                        img = Image.open(img_path).resize(IMG_SIZE).convert(\"L\")\n",
    "                        img_np = np.array(img)\n",
    "                        day_images.append(img_np)\n",
    "                if len(day_images) == N_DAYS:\n",
    "                    cube.append(day_images)\n",
    "\n",
    "            if len(cube) == N_MODALITIES:\n",
    "                cube_np = np.transpose(np.array(cube), (1, 2, 3, 0))  # (DAYS, H, W, MODALITIES)\n",
    "                X_raw.append(cube_np)\n",
    "                y.append(int(label))\n",
    "                count += 1\n",
    "\n",
    "    return np.array(X_raw), np.array(y)"
   ]
  },
  {
   "cell_type": "markdown",
   "id": "d3f96fd0",
   "metadata": {
    "papermill": {
     "duration": 0.00358,
     "end_time": "2025-07-29T11:49:03.155942",
     "exception": false,
     "start_time": "2025-07-29T11:49:03.152362",
     "status": "completed"
    },
    "tags": []
   },
   "source": [
    "## Model Training"
   ]
  },
  {
   "cell_type": "code",
   "execution_count": null,
   "id": "507f1cda",
   "metadata": {
    "execution": {
     "iopub.execute_input": "2025-07-29T11:49:03.176457Z",
     "iopub.status.busy": "2025-07-29T11:49:03.176045Z",
     "iopub.status.idle": "2025-07-29T11:49:03.184701Z",
     "shell.execute_reply": "2025-07-29T11:49:03.184209Z"
    },
    "papermill": {
     "duration": 0.013663,
     "end_time": "2025-07-29T11:49:03.185626",
     "exception": false,
     "start_time": "2025-07-29T11:49:03.171963",
     "status": "completed"
    },
    "tags": []
   },
   "outputs": [],
   "source": [
    "def train_habnet(BASE_DIR, MAX_SAMPLES_PER_CLASS):\n",
    "    # X_raw, y = load_data_habnet_only(BASE_DIR, MAX_SAMPLES_PER_CLASS)\n",
    "    X_raw, y = load_data(BASE_DIR, MAX_SAMPLES_PER_CLASS)\n",
    "    print(\" Data shape:\", X_raw.shape, y.shape)\n",
    "\n",
    "    y_cat = to_categorical(y, num_classes=2)\n",
    "\n",
    "    X_train, X_val, y_train, y_val = train_test_split(X_raw, y_cat, test_size=0.2, random_state=42, shuffle = True)\n",
    "\n",
    "    input_shape = (X_raw.shape[1], X_raw.shape[2], X_raw.shape[3], X_raw.shape[4])\n",
    "    print('input_shape : ', input_shape)\n",
    "    inputs = Input(shape=input_shape)\n",
    "\n",
    "    x = TimeDistributed(Conv2D(32, (3, 3), activation='relu', padding='same'))(inputs)\n",
    "    x = TimeDistributed(BatchNormalization())(x)\n",
    "    x = TimeDistributed(MaxPooling2D((2, 2)))(x)\n",
    "    \n",
    "    x = TimeDistributed(Conv2D(64, (3, 3), activation='relu', padding='same'))(x)\n",
    "    x = TimeDistributed(BatchNormalization())(x)\n",
    "    x = TimeDistributed(MaxPooling2D((2, 2)))(x)\n",
    "    \n",
    "    x = TimeDistributed(Flatten())(x)  # Now shape: (batch, 10, features)\n",
    "    \n",
    "    # Sequence modeling with LSTM\n",
    "    x = LSTM(128, return_sequences=False)(x)\n",
    "    x = Dropout(0.4)(x)\n",
    "    \n",
    "    # Classification head\n",
    "    x = Dense(64, activation='relu')(x)\n",
    "    x = Dropout(0.3)(x)\n",
    "    outputs = Dense(2, activation='softmax')(x)\n",
    "\n",
    "    model = Model(inputs, outputs)\n",
    "    model.compile(optimizer='adam', loss='categorical_crossentropy', metrics=['accuracy', 'recall', 'precision'])\n",
    "\n",
    "    print(\" Starting Training...\")\n",
    "    start = time.time()\n",
    "    history = model.fit(X_train, y_train, epochs=30, batch_size=16, validation_data=(X_val, y_val))\n",
    "    end = time.time()\n",
    "    print(\"\\n Time taken:\", round(end - start, 2), \"seconds\")\n",
    "    \n",
    "    X_test, y_test = load_data('/kaggle/input/test-hab-200/Test_HAB_200', {'0':200, '1':200})\n",
    "\n",
    "    print(\" Data shape:\", X_test.shape, y_test.shape)\n",
    "\n",
    "    \n",
    "    print(\"\\n Evaluation on Test Set:\")\n",
    "    loss, acc, rec, prec = model.evaluate(X_test, to_categorical(y_test))\n",
    "    print(\"Test Accuracy:\", acc)\n",
    "\n",
    "    pred = model.predict(X_test).argmax(axis=1)\n",
    "    print('Pred Shape : ', pred.shape)\n",
    "    cm = confusion_matrix(y_test, pred)\n",
    "    disp = ConfusionMatrixDisplay(confusion_matrix=cm)\n",
    "    disp.plot()\n",
    "    plt.title(\"HABNet Confusion Matrix\")\n",
    "    plt.show()\n",
    "\n",
    "    plt.plot(history.history['accuracy'], label='Train Accuracy')\n",
    "    plt.plot(history.history['val_accuracy'], label='Validation Accuracy')\n",
    "    plt.xlabel(\"Epoch\")\n",
    "    plt.ylabel(\"Accuracy\")\n",
    "    plt.title(\"HABNet Accuracy Over Epochs\")\n",
    "    plt.legend()\n",
    "    plt.grid(True)\n",
    "    plt.show()\n",
    "    \n",
    "    return model"
   ]
  },
  {
   "cell_type": "code",
   "execution_count": 8,
   "id": "5f0b52cd",
   "metadata": {
    "execution": {
     "iopub.execute_input": "2025-07-29T11:49:03.200864Z",
     "iopub.status.busy": "2025-07-29T11:49:03.200460Z",
     "iopub.status.idle": "2025-07-29T11:54:18.842219Z",
     "shell.execute_reply": "2025-07-29T11:54:18.841513Z"
    },
    "papermill": {
     "duration": 315.64707,
     "end_time": "2025-07-29T11:54:18.843489",
     "exception": false,
     "start_time": "2025-07-29T11:49:03.196419",
     "status": "completed"
    },
    "tags": []
   },
   "outputs": [
    {
     "name": "stdout",
     "output_type": "stream",
     "text": [
      " Data shape: (400, 10, 64, 64, 3) (400,)\n",
      "input_shape :  (10, 64, 64, 3)\n"
     ]
    },
    {
     "name": "stderr",
     "output_type": "stream",
     "text": [
      "I0000 00:00:1753789862.346235      19 gpu_device.cc:2022] Created device /job:localhost/replica:0/task:0/device:GPU:0 with 13942 MB memory:  -> device: 0, name: Tesla T4, pci bus id: 0000:00:04.0, compute capability: 7.5\n",
      "I0000 00:00:1753789862.346952      19 gpu_device.cc:2022] Created device /job:localhost/replica:0/task:0/device:GPU:1 with 13942 MB memory:  -> device: 1, name: Tesla T4, pci bus id: 0000:00:05.0, compute capability: 7.5\n"
     ]
    },
    {
     "name": "stdout",
     "output_type": "stream",
     "text": [
      " Starting Training...\n",
      "Epoch 1/30\n"
     ]
    },
    {
     "name": "stderr",
     "output_type": "stream",
     "text": [
      "I0000 00:00:1753789875.494190      60 cuda_dnn.cc:529] Loaded cuDNN version 90300\n"
     ]
    },
    {
     "name": "stdout",
     "output_type": "stream",
     "text": [
      "\u001b[1m20/20\u001b[0m \u001b[32m━━━━━━━━━━━━━━━━━━━━\u001b[0m\u001b[37m\u001b[0m \u001b[1m18s\u001b[0m 203ms/step - accuracy: 0.5169 - loss: 0.8074 - precision: 0.5169 - recall: 0.5169 - val_accuracy: 0.5125 - val_loss: 0.6883 - val_precision: 0.5125 - val_recall: 0.5125\n",
      "Epoch 2/30\n",
      "\u001b[1m20/20\u001b[0m \u001b[32m━━━━━━━━━━━━━━━━━━━━\u001b[0m\u001b[37m\u001b[0m \u001b[1m2s\u001b[0m 94ms/step - accuracy: 0.6066 - loss: 0.6981 - precision: 0.6066 - recall: 0.6066 - val_accuracy: 0.6375 - val_loss: 0.6158 - val_precision: 0.6375 - val_recall: 0.6375\n",
      "Epoch 3/30\n",
      "\u001b[1m20/20\u001b[0m \u001b[32m━━━━━━━━━━━━━━━━━━━━\u001b[0m\u001b[37m\u001b[0m \u001b[1m2s\u001b[0m 91ms/step - accuracy: 0.6803 - loss: 0.6108 - precision: 0.6803 - recall: 0.6803 - val_accuracy: 0.6500 - val_loss: 0.5990 - val_precision: 0.6500 - val_recall: 0.6500\n",
      "Epoch 4/30\n",
      "\u001b[1m20/20\u001b[0m \u001b[32m━━━━━━━━━━━━━━━━━━━━\u001b[0m\u001b[37m\u001b[0m \u001b[1m2s\u001b[0m 91ms/step - accuracy: 0.6360 - loss: 0.6138 - precision: 0.6360 - recall: 0.6360 - val_accuracy: 0.6500 - val_loss: 0.6411 - val_precision: 0.6500 - val_recall: 0.6500\n",
      "Epoch 5/30\n",
      "\u001b[1m20/20\u001b[0m \u001b[32m━━━━━━━━━━━━━━━━━━━━\u001b[0m\u001b[37m\u001b[0m \u001b[1m2s\u001b[0m 92ms/step - accuracy: 0.6777 - loss: 0.5979 - precision: 0.6777 - recall: 0.6777 - val_accuracy: 0.5750 - val_loss: 0.7350 - val_precision: 0.5750 - val_recall: 0.5750\n",
      "Epoch 6/30\n",
      "\u001b[1m20/20\u001b[0m \u001b[32m━━━━━━━━━━━━━━━━━━━━\u001b[0m\u001b[37m\u001b[0m \u001b[1m2s\u001b[0m 91ms/step - accuracy: 0.7035 - loss: 0.6035 - precision: 0.7035 - recall: 0.7035 - val_accuracy: 0.6375 - val_loss: 0.6715 - val_precision: 0.6375 - val_recall: 0.6375\n",
      "Epoch 7/30\n",
      "\u001b[1m20/20\u001b[0m \u001b[32m━━━━━━━━━━━━━━━━━━━━\u001b[0m\u001b[37m\u001b[0m \u001b[1m2s\u001b[0m 91ms/step - accuracy: 0.6980 - loss: 0.5734 - precision: 0.6980 - recall: 0.6980 - val_accuracy: 0.6250 - val_loss: 0.6727 - val_precision: 0.6250 - val_recall: 0.6250\n",
      "Epoch 8/30\n",
      "\u001b[1m20/20\u001b[0m \u001b[32m━━━━━━━━━━━━━━━━━━━━\u001b[0m\u001b[37m\u001b[0m \u001b[1m2s\u001b[0m 91ms/step - accuracy: 0.7445 - loss: 0.5195 - precision: 0.7445 - recall: 0.7445 - val_accuracy: 0.6750 - val_loss: 0.6186 - val_precision: 0.6750 - val_recall: 0.6750\n",
      "Epoch 9/30\n",
      "\u001b[1m20/20\u001b[0m \u001b[32m━━━━━━━━━━━━━━━━━━━━\u001b[0m\u001b[37m\u001b[0m \u001b[1m2s\u001b[0m 91ms/step - accuracy: 0.7385 - loss: 0.5398 - precision: 0.7385 - recall: 0.7385 - val_accuracy: 0.5750 - val_loss: 0.6522 - val_precision: 0.5750 - val_recall: 0.5750\n",
      "Epoch 10/30\n",
      "\u001b[1m20/20\u001b[0m \u001b[32m━━━━━━━━━━━━━━━━━━━━\u001b[0m\u001b[37m\u001b[0m \u001b[1m2s\u001b[0m 91ms/step - accuracy: 0.7243 - loss: 0.5342 - precision: 0.7243 - recall: 0.7243 - val_accuracy: 0.6375 - val_loss: 0.6755 - val_precision: 0.6375 - val_recall: 0.6375\n",
      "Epoch 11/30\n",
      "\u001b[1m20/20\u001b[0m \u001b[32m━━━━━━━━━━━━━━━━━━━━\u001b[0m\u001b[37m\u001b[0m \u001b[1m2s\u001b[0m 92ms/step - accuracy: 0.6931 - loss: 0.6101 - precision: 0.6931 - recall: 0.6931 - val_accuracy: 0.6625 - val_loss: 0.6330 - val_precision: 0.6625 - val_recall: 0.6625\n",
      "Epoch 12/30\n",
      "\u001b[1m20/20\u001b[0m \u001b[32m━━━━━━━━━━━━━━━━━━━━\u001b[0m\u001b[37m\u001b[0m \u001b[1m2s\u001b[0m 91ms/step - accuracy: 0.7272 - loss: 0.4825 - precision: 0.7272 - recall: 0.7272 - val_accuracy: 0.6875 - val_loss: 0.5987 - val_precision: 0.6875 - val_recall: 0.6875\n",
      "Epoch 13/30\n",
      "\u001b[1m20/20\u001b[0m \u001b[32m━━━━━━━━━━━━━━━━━━━━\u001b[0m\u001b[37m\u001b[0m \u001b[1m2s\u001b[0m 92ms/step - accuracy: 0.6997 - loss: 0.5507 - precision: 0.6997 - recall: 0.6997 - val_accuracy: 0.7250 - val_loss: 0.5955 - val_precision: 0.7250 - val_recall: 0.7250\n",
      "Epoch 14/30\n",
      "\u001b[1m20/20\u001b[0m \u001b[32m━━━━━━━━━━━━━━━━━━━━\u001b[0m\u001b[37m\u001b[0m \u001b[1m2s\u001b[0m 92ms/step - accuracy: 0.7223 - loss: 0.5880 - precision: 0.7223 - recall: 0.7223 - val_accuracy: 0.6750 - val_loss: 0.6314 - val_precision: 0.6750 - val_recall: 0.6750\n",
      "Epoch 15/30\n",
      "\u001b[1m20/20\u001b[0m \u001b[32m━━━━━━━━━━━━━━━━━━━━\u001b[0m\u001b[37m\u001b[0m \u001b[1m2s\u001b[0m 92ms/step - accuracy: 0.6628 - loss: 0.6078 - precision: 0.6628 - recall: 0.6628 - val_accuracy: 0.7375 - val_loss: 0.6522 - val_precision: 0.7375 - val_recall: 0.7375\n",
      "Epoch 16/30\n",
      "\u001b[1m20/20\u001b[0m \u001b[32m━━━━━━━━━━━━━━━━━━━━\u001b[0m\u001b[37m\u001b[0m \u001b[1m2s\u001b[0m 92ms/step - accuracy: 0.6879 - loss: 0.6012 - precision: 0.6879 - recall: 0.6879 - val_accuracy: 0.7000 - val_loss: 0.6210 - val_precision: 0.7000 - val_recall: 0.7000\n",
      "Epoch 17/30\n",
      "\u001b[1m20/20\u001b[0m \u001b[32m━━━━━━━━━━━━━━━━━━━━\u001b[0m\u001b[37m\u001b[0m \u001b[1m2s\u001b[0m 92ms/step - accuracy: 0.6664 - loss: 0.6328 - precision: 0.6664 - recall: 0.6664 - val_accuracy: 0.7000 - val_loss: 0.5889 - val_precision: 0.7000 - val_recall: 0.7000\n",
      "Epoch 18/30\n",
      "\u001b[1m20/20\u001b[0m \u001b[32m━━━━━━━━━━━━━━━━━━━━\u001b[0m\u001b[37m\u001b[0m \u001b[1m2s\u001b[0m 92ms/step - accuracy: 0.7239 - loss: 0.5313 - precision: 0.7239 - recall: 0.7239 - val_accuracy: 0.6375 - val_loss: 0.6111 - val_precision: 0.6375 - val_recall: 0.6375\n",
      "Epoch 19/30\n",
      "\u001b[1m20/20\u001b[0m \u001b[32m━━━━━━━━━━━━━━━━━━━━\u001b[0m\u001b[37m\u001b[0m \u001b[1m2s\u001b[0m 93ms/step - accuracy: 0.6978 - loss: 0.5766 - precision: 0.6978 - recall: 0.6978 - val_accuracy: 0.7250 - val_loss: 0.5803 - val_precision: 0.7250 - val_recall: 0.7250\n",
      "Epoch 20/30\n",
      "\u001b[1m20/20\u001b[0m \u001b[32m━━━━━━━━━━━━━━━━━━━━\u001b[0m\u001b[37m\u001b[0m \u001b[1m2s\u001b[0m 92ms/step - accuracy: 0.7275 - loss: 0.5267 - precision: 0.7275 - recall: 0.7275 - val_accuracy: 0.7000 - val_loss: 0.5611 - val_precision: 0.7000 - val_recall: 0.7000\n",
      "Epoch 21/30\n",
      "\u001b[1m20/20\u001b[0m \u001b[32m━━━━━━━━━━━━━━━━━━━━\u001b[0m\u001b[37m\u001b[0m \u001b[1m2s\u001b[0m 92ms/step - accuracy: 0.7785 - loss: 0.5076 - precision: 0.7785 - recall: 0.7785 - val_accuracy: 0.7250 - val_loss: 0.5850 - val_precision: 0.7250 - val_recall: 0.7250\n",
      "Epoch 22/30\n",
      "\u001b[1m20/20\u001b[0m \u001b[32m━━━━━━━━━━━━━━━━━━━━\u001b[0m\u001b[37m\u001b[0m \u001b[1m2s\u001b[0m 92ms/step - accuracy: 0.7527 - loss: 0.5216 - precision: 0.7527 - recall: 0.7527 - val_accuracy: 0.6000 - val_loss: 0.6755 - val_precision: 0.6000 - val_recall: 0.6000\n",
      "Epoch 23/30\n",
      "\u001b[1m20/20\u001b[0m \u001b[32m━━━━━━━━━━━━━━━━━━━━\u001b[0m\u001b[37m\u001b[0m \u001b[1m2s\u001b[0m 92ms/step - accuracy: 0.6742 - loss: 0.5765 - precision: 0.6742 - recall: 0.6742 - val_accuracy: 0.6625 - val_loss: 0.6415 - val_precision: 0.6625 - val_recall: 0.6625\n",
      "Epoch 24/30\n",
      "\u001b[1m20/20\u001b[0m \u001b[32m━━━━━━━━━━━━━━━━━━━━\u001b[0m\u001b[37m\u001b[0m \u001b[1m2s\u001b[0m 92ms/step - accuracy: 0.7739 - loss: 0.4568 - precision: 0.7739 - recall: 0.7739 - val_accuracy: 0.7250 - val_loss: 0.5738 - val_precision: 0.7250 - val_recall: 0.7250\n",
      "Epoch 25/30\n",
      "\u001b[1m20/20\u001b[0m \u001b[32m━━━━━━━━━━━━━━━━━━━━\u001b[0m\u001b[37m\u001b[0m \u001b[1m2s\u001b[0m 92ms/step - accuracy: 0.7910 - loss: 0.4649 - precision: 0.7910 - recall: 0.7910 - val_accuracy: 0.7500 - val_loss: 0.5657 - val_precision: 0.7500 - val_recall: 0.7500\n",
      "Epoch 26/30\n",
      "\u001b[1m20/20\u001b[0m \u001b[32m━━━━━━━━━━━━━━━━━━━━\u001b[0m\u001b[37m\u001b[0m \u001b[1m2s\u001b[0m 92ms/step - accuracy: 0.7786 - loss: 0.4656 - precision: 0.7786 - recall: 0.7786 - val_accuracy: 0.7250 - val_loss: 0.5725 - val_precision: 0.7250 - val_recall: 0.7250\n",
      "Epoch 27/30\n",
      "\u001b[1m20/20\u001b[0m \u001b[32m━━━━━━━━━━━━━━━━━━━━\u001b[0m\u001b[37m\u001b[0m \u001b[1m2s\u001b[0m 92ms/step - accuracy: 0.7819 - loss: 0.4675 - precision: 0.7819 - recall: 0.7819 - val_accuracy: 0.6875 - val_loss: 0.6010 - val_precision: 0.6875 - val_recall: 0.6875\n",
      "Epoch 28/30\n",
      "\u001b[1m20/20\u001b[0m \u001b[32m━━━━━━━━━━━━━━━━━━━━\u001b[0m\u001b[37m\u001b[0m \u001b[1m2s\u001b[0m 92ms/step - accuracy: 0.7278 - loss: 0.5284 - precision: 0.7278 - recall: 0.7278 - val_accuracy: 0.6750 - val_loss: 0.6203 - val_precision: 0.6750 - val_recall: 0.6750\n",
      "Epoch 29/30\n",
      "\u001b[1m20/20\u001b[0m \u001b[32m━━━━━━━━━━━━━━━━━━━━\u001b[0m\u001b[37m\u001b[0m \u001b[1m2s\u001b[0m 93ms/step - accuracy: 0.7691 - loss: 0.4899 - precision: 0.7691 - recall: 0.7691 - val_accuracy: 0.6625 - val_loss: 0.6063 - val_precision: 0.6625 - val_recall: 0.6625\n",
      "Epoch 30/30\n",
      "\u001b[1m20/20\u001b[0m \u001b[32m━━━━━━━━━━━━━━━━━━━━\u001b[0m\u001b[37m\u001b[0m \u001b[1m2s\u001b[0m 93ms/step - accuracy: 0.7900 - loss: 0.4477 - precision: 0.7900 - recall: 0.7900 - val_accuracy: 0.7000 - val_loss: 0.5628 - val_precision: 0.7000 - val_recall: 0.7000\n",
      "\n",
      " Time taken: 72.36 seconds\n",
      " Data shape: (400, 10, 64, 64, 3) (400,)\n",
      "\n",
      " Evaluation on Test Set:\n",
      "\u001b[1m13/13\u001b[0m \u001b[32m━━━━━━━━━━━━━━━━━━━━\u001b[0m\u001b[37m\u001b[0m \u001b[1m3s\u001b[0m 30ms/step - accuracy: 0.7654 - loss: 0.5153 - precision: 0.7654 - recall: 0.7654\n",
      "Test Accuracy: 0.7350000143051147\n",
      "\u001b[1m13/13\u001b[0m \u001b[32m━━━━━━━━━━━━━━━━━━━━\u001b[0m\u001b[37m\u001b[0m \u001b[1m3s\u001b[0m 131ms/step\n",
      "Pred Shape :  (400,)\n"
     ]
    },
    {
     "data": {
      "image/png": "[encoded data removed]",
      "text/plain": [
       "<Figure size 640x480 with 2 Axes>"
      ]
     },
     "metadata": {},
     "output_type": "display_data"
    },
    {
     "data": {
      "image/png": "[encoded data removed]",
      "text/plain": [
       "<Figure size 640x480 with 1 Axes>"
      ]
     },
     "metadata": {},
     "output_type": "display_data"
    }
   ],
   "source": [
    "model = train_habnet(DATA_DIR, MAX_SAMPLES_PER_CLASS)"
   ]
  },
  {
   "cell_type": "markdown",
   "id": "b5deb623",
   "metadata": {},
   "source": [
    "## Testing on unseen data"
   ]
  },
  {
   "cell_type": "code",
   "execution_count": 9,
   "id": "f59a570c",
   "metadata": {
    "execution": {
     "iopub.execute_input": "2025-07-29T11:54:18.958986Z",
     "iopub.status.busy": "2025-07-29T11:54:18.958742Z",
     "iopub.status.idle": "2025-07-29T11:54:36.615128Z",
     "shell.execute_reply": "2025-07-29T11:54:36.614502Z"
    },
    "papermill": {
     "duration": 17.736725,
     "end_time": "2025-07-29T11:54:36.616488",
     "exception": false,
     "start_time": "2025-07-29T11:54:18.879763",
     "status": "completed"
    },
    "tags": []
   },
   "outputs": [],
   "source": [
    "test_X, test_y = load_data('/kaggle/input/test-hab-200/Test_HAB_200', {'0':200, '1':200})"
   ]
  },
  {
   "cell_type": "code",
   "execution_count": 10,
   "id": "a9a6a9cd",
   "metadata": {
    "execution": {
     "iopub.execute_input": "2025-07-29T11:54:36.681034Z",
     "iopub.status.busy": "2025-07-29T11:54:36.680802Z",
     "iopub.status.idle": "2025-07-29T11:54:36.698071Z",
     "shell.execute_reply": "2025-07-29T11:54:36.697515Z"
    },
    "papermill": {
     "duration": 0.050553,
     "end_time": "2025-07-29T11:54:36.699213",
     "exception": false,
     "start_time": "2025-07-29T11:54:36.648660",
     "status": "completed"
    },
    "tags": []
   },
   "outputs": [],
   "source": [
    "p = np.random.permutation(len(test_X))\n",
    "X_test_shuffled = test_X[p]\n",
    "y_test_shuffled = test_y[p]"
   ]
  },
  {
   "cell_type": "code",
   "execution_count": 11,
   "id": "5a30b908",
   "metadata": {
    "execution": {
     "iopub.execute_input": "2025-07-29T11:54:36.763041Z",
     "iopub.status.busy": "2025-07-29T11:54:36.762821Z",
     "iopub.status.idle": "2025-07-29T11:54:36.767480Z",
     "shell.execute_reply": "2025-07-29T11:54:36.766961Z"
    },
    "papermill": {
     "duration": 0.037465,
     "end_time": "2025-07-29T11:54:36.768529",
     "exception": false,
     "start_time": "2025-07-29T11:54:36.731064",
     "status": "completed"
    },
    "tags": []
   },
   "outputs": [
    {
     "data": {
      "text/plain": [
       "((400, 10, 64, 64, 3), (400,), (400, 10, 64, 64, 3), (400,))"
      ]
     },
     "execution_count": 11,
     "metadata": {},
     "output_type": "execute_result"
    }
   ],
   "source": [
    "test_X.shape, test_y.shape, X_test_shuffled.shape, y_test_shuffled.shape"
   ]
  },
  {
   "cell_type": "code",
   "execution_count": 12,
   "id": "3dc45ed9",
   "metadata": {
    "execution": {
     "iopub.execute_input": "2025-07-29T11:54:36.832543Z",
     "iopub.status.busy": "2025-07-29T11:54:36.831816Z",
     "iopub.status.idle": "2025-07-29T11:54:37.327325Z",
     "shell.execute_reply": "2025-07-29T11:54:37.326783Z"
    },
    "papermill": {
     "duration": 0.528316,
     "end_time": "2025-07-29T11:54:37.328486",
     "exception": false,
     "start_time": "2025-07-29T11:54:36.800170",
     "status": "completed"
    },
    "tags": []
   },
   "outputs": [
    {
     "name": "stdout",
     "output_type": "stream",
     "text": [
      "\u001b[1m13/13\u001b[0m \u001b[32m━━━━━━━━━━━━━━━━━━━━\u001b[0m\u001b[37m\u001b[0m \u001b[1m0s\u001b[0m 23ms/step\n"
     ]
    }
   ],
   "source": [
    "preds = model.predict(X_test_shuffled)"
   ]
  },
  {
   "cell_type": "code",
   "execution_count": null,
   "id": "5802686d",
   "metadata": {
    "execution": {
     "iopub.execute_input": "2025-07-29T11:54:37.631252Z",
     "iopub.status.busy": "2025-07-29T11:54:37.631054Z",
     "iopub.status.idle": "2025-07-29T11:54:37.777860Z",
     "shell.execute_reply": "2025-07-29T11:54:37.777163Z"
    },
    "papermill": {
     "duration": 0.180224,
     "end_time": "2025-07-29T11:54:37.779007",
     "exception": false,
     "start_time": "2025-07-29T11:54:37.598783",
     "status": "completed"
    },
    "tags": []
   },
   "outputs": [
    {
     "name": "stdout",
     "output_type": "stream",
     "text": [
      "              precision    recall  f1-score   support\n",
      "\n",
      "           0       0.73      0.74      0.74       200\n",
      "           1       0.74      0.72      0.73       200\n",
      "\n",
      "    accuracy                           0.73       400\n",
      "   macro avg       0.74      0.73      0.73       400\n",
      "weighted avg       0.74      0.73      0.73       400\n",
      "\n"
     ]
    },
    {
     "data": {
      "image/png": "[encoded data removed]",
      "text/plain": [
       "<Figure size 640x480 with 2 Axes>"
      ]
     },
     "metadata": {},
     "output_type": "display_data"
    }
   ],
   "source": [
    "print(classification_report(y_test_shuffled, preds)\n",
    "ConfusionMatrixDisplay.from_predictions(y_test_shuffled, preds, display_labels=[\"Non-Toxic\", \"Toxic\"], cmap=\"Greens\")\n",
    "plt.title(\"CNN + LSTM - Tier 1\")\n",
    "plt.show()"
   ]
  },
  {
   "cell_type": "markdown",
   "id": "854ed25e",
   "metadata": {},
   "source": [
    "## Testing with single datacube"
   ]
  },
  {
   "cell_type": "code",
   "execution_count": null,
   "id": "ec9681d6",
   "metadata": {
    "execution": {
     "iopub.execute_input": "2025-07-29T11:54:37.852040Z",
     "iopub.status.busy": "2025-07-29T11:54:37.851815Z",
     "iopub.status.idle": "2025-07-29T11:54:37.857242Z",
     "shell.execute_reply": "2025-07-29T11:54:37.856705Z"
    },
    "papermill": {
     "duration": 0.042947,
     "end_time": "2025-07-29T11:54:37.858449",
     "exception": false,
     "start_time": "2025-07-29T11:54:37.815502",
     "status": "completed"
    },
    "tags": []
   },
   "outputs": [],
   "source": [
    "def load_datacube(sample_path):\n",
    "    modalities = sorted(os.listdir(sample_path))[:N_MODALITIES]\n",
    "    cube = []\n",
    "\n",
    "    for mod in modalities:\n",
    "        mod_path = os.path.join(sample_path, mod)\n",
    "        day_images = []\n",
    "        for d in range(1, N_DAYS + 1):\n",
    "            img_path = os.path.join(mod_path, f\"{str(d).zfill(2)}.png\")\n",
    "            if os.path.exists(img_path):\n",
    "                img = Image.open(img_path).resize(IMG_SIZE).convert(\"L\")\n",
    "                img_np = np.array(img)\n",
    "                day_images.append(img_np)\n",
    "        if len(day_images) == N_DAYS:\n",
    "            cube.append(day_images)\n",
    "\n",
    "    if len(cube) == N_MODALITIES:\n",
    "        cube_np = np.transpose(np.array(cube), (1, 2, 3, 0))  # (DAYS, H, W, MODALITIES)\n",
    "        x = cube_np\n",
    "    return x"
   ]
  },
  {
   "cell_type": "code",
   "execution_count": 18,
   "id": "2c3914e0",
   "metadata": {
    "execution": {
     "iopub.execute_input": "2025-07-29T11:54:37.929252Z",
     "iopub.status.busy": "2025-07-29T11:54:37.928851Z",
     "iopub.status.idle": "2025-07-29T11:54:37.932110Z",
     "shell.execute_reply": "2025-07-29T11:54:37.931573Z"
    },
    "papermill": {
     "duration": 0.038593,
     "end_time": "2025-07-29T11:54:37.933137",
     "exception": false,
     "start_time": "2025-07-29T11:54:37.894544",
     "status": "completed"
    },
    "tags": []
   },
   "outputs": [],
   "source": [
    "def predict_datacube(folder_path, model):\n",
    "    x = load_datacube(folder_path)\n",
    "    print(model.predict(np.expand_dims(x,0)))"
   ]
  },
  {
   "cell_type": "code",
   "execution_count": 19,
   "id": "b88d8aed",
   "metadata": {
    "execution": {
     "iopub.execute_input": "2025-07-29T11:54:37.998692Z",
     "iopub.status.busy": "2025-07-29T11:54:37.998312Z",
     "iopub.status.idle": "2025-07-29T11:54:38.182831Z",
     "shell.execute_reply": "2025-07-29T11:54:38.182025Z"
    },
    "papermill": {
     "duration": 0.218159,
     "end_time": "2025-07-29T11:54:38.183991",
     "exception": false,
     "start_time": "2025-07-29T11:54:37.965832",
     "status": "completed"
    },
    "tags": []
   },
   "outputs": [
    {
     "name": "stdout",
     "output_type": "stream",
     "text": [
      "\u001b[1m1/1\u001b[0m \u001b[32m━━━━━━━━━━━━━━━━━━━━\u001b[0m\u001b[37m\u001b[0m \u001b[1m0s\u001b[0m 94ms/step\n",
      "[[0.9199049  0.08009516]]\n"
     ]
    }
   ],
   "source": [
    "predict_datacube('/kaggle/input/test-hab-200/Test_HAB_200/0/habnet_datacube_20160404_26.7614_-82.0611_0', model)"
   ]
  },
  {
   "cell_type": "code",
   "execution_count": 20,
   "id": "9311afba",
   "metadata": {
    "execution": {
     "iopub.execute_input": "2025-07-29T11:54:38.250539Z",
     "iopub.status.busy": "2025-07-29T11:54:38.250342Z",
     "iopub.status.idle": "2025-07-29T11:54:38.355527Z",
     "shell.execute_reply": "2025-07-29T11:54:38.354964Z"
    },
    "papermill": {
     "duration": 0.1391,
     "end_time": "2025-07-29T11:54:38.356506",
     "exception": false,
     "start_time": "2025-07-29T11:54:38.217406",
     "status": "completed"
    },
    "tags": []
   },
   "outputs": [
    {
     "name": "stdout",
     "output_type": "stream",
     "text": [
      "\u001b[1m1/1\u001b[0m \u001b[32m━━━━━━━━━━━━━━━━━━━━\u001b[0m\u001b[37m\u001b[0m \u001b[1m0s\u001b[0m 31ms/step\n",
      "[[0.44461727 0.5553828 ]]\n"
     ]
    }
   ],
   "source": [
    "predict_datacube('/kaggle/input/test-hab-200/Test_HAB_200/1/habnet_datacube_20161004_27.3316_-82.5779_408000', model)"
   ]
  },
  {
   "cell_type": "markdown",
   "id": "8be0ca7c",
   "metadata": {},
   "source": [
    "## Model Summary"
   ]
  },
  {
   "cell_type": "code",
   "execution_count": 21,
   "id": "8fc398ed",
   "metadata": {
    "execution": {
     "iopub.execute_input": "2025-07-29T11:54:38.423291Z",
     "iopub.status.busy": "2025-07-29T11:54:38.423105Z",
     "iopub.status.idle": "2025-07-29T11:54:38.442689Z",
     "shell.execute_reply": "2025-07-29T11:54:38.442020Z"
    },
    "papermill": {
     "duration": 0.054098,
     "end_time": "2025-07-29T11:54:38.443825",
     "exception": false,
     "start_time": "2025-07-29T11:54:38.389727",
     "status": "completed"
    },
    "tags": []
   },
   "outputs": [
    {
     "data": {
      "text/html": [
       "<pre style=\"white-space:pre;overflow-x:auto;line-height:normal;font-family:Menlo,'DejaVu Sans Mono',consolas,'Courier New',monospace\"><span style=\"font-weight: bold\">Model: \"functional\"</span>\n",
       "</pre>\n"
      ],
      "text/plain": [
       "\u001b[1mModel: \"functional\"\u001b[0m\n"
      ]
     },
     "metadata": {},
     "output_type": "display_data"
    },
    {
     "data": {
      "text/html": [
       "<pre style=\"white-space:pre;overflow-x:auto;line-height:normal;font-family:Menlo,'DejaVu Sans Mono',consolas,'Courier New',monospace\">┏━━━━━━━━━━━━━━━━━━━━━━━━━━━━━━━━━┳━━━━━━━━━━━━━━━━━━━━━━━━┳━━━━━━━━━━━━━━━┓\n",
       "┃<span style=\"font-weight: bold\"> Layer (type)                    </span>┃<span style=\"font-weight: bold\"> Output Shape           </span>┃<span style=\"font-weight: bold\">       Param # </span>┃\n",
       "┡━━━━━━━━━━━━━━━━━━━━━━━━━━━━━━━━━╇━━━━━━━━━━━━━━━━━━━━━━━━╇━━━━━━━━━━━━━━━┩\n",
       "│ input_layer (<span style=\"color: #0087ff; text-decoration-color: #0087ff\">InputLayer</span>)        │ (<span style=\"color: #00d7ff; text-decoration-color: #00d7ff\">None</span>, <span style=\"color: #00af00; text-decoration-color: #00af00\">10</span>, <span style=\"color: #00af00; text-decoration-color: #00af00\">64</span>, <span style=\"color: #00af00; text-decoration-color: #00af00\">64</span>, <span style=\"color: #00af00; text-decoration-color: #00af00\">3</span>)  │             <span style=\"color: #00af00; text-decoration-color: #00af00\">0</span> │\n",
       "├─────────────────────────────────┼────────────────────────┼───────────────┤\n",
       "│ time_distributed                │ (<span style=\"color: #00d7ff; text-decoration-color: #00d7ff\">None</span>, <span style=\"color: #00af00; text-decoration-color: #00af00\">10</span>, <span style=\"color: #00af00; text-decoration-color: #00af00\">64</span>, <span style=\"color: #00af00; text-decoration-color: #00af00\">64</span>, <span style=\"color: #00af00; text-decoration-color: #00af00\">32</span>) │           <span style=\"color: #00af00; text-decoration-color: #00af00\">896</span> │\n",
       "│ (<span style=\"color: #0087ff; text-decoration-color: #0087ff\">TimeDistributed</span>)               │                        │               │\n",
       "├─────────────────────────────────┼────────────────────────┼───────────────┤\n",
       "│ time_distributed_1              │ (<span style=\"color: #00d7ff; text-decoration-color: #00d7ff\">None</span>, <span style=\"color: #00af00; text-decoration-color: #00af00\">10</span>, <span style=\"color: #00af00; text-decoration-color: #00af00\">64</span>, <span style=\"color: #00af00; text-decoration-color: #00af00\">64</span>, <span style=\"color: #00af00; text-decoration-color: #00af00\">32</span>) │           <span style=\"color: #00af00; text-decoration-color: #00af00\">128</span> │\n",
       "│ (<span style=\"color: #0087ff; text-decoration-color: #0087ff\">TimeDistributed</span>)               │                        │               │\n",
       "├─────────────────────────────────┼────────────────────────┼───────────────┤\n",
       "│ time_distributed_2              │ (<span style=\"color: #00d7ff; text-decoration-color: #00d7ff\">None</span>, <span style=\"color: #00af00; text-decoration-color: #00af00\">10</span>, <span style=\"color: #00af00; text-decoration-color: #00af00\">32</span>, <span style=\"color: #00af00; text-decoration-color: #00af00\">32</span>, <span style=\"color: #00af00; text-decoration-color: #00af00\">32</span>) │             <span style=\"color: #00af00; text-decoration-color: #00af00\">0</span> │\n",
       "│ (<span style=\"color: #0087ff; text-decoration-color: #0087ff\">TimeDistributed</span>)               │                        │               │\n",
       "├─────────────────────────────────┼────────────────────────┼───────────────┤\n",
       "│ time_distributed_3              │ (<span style=\"color: #00d7ff; text-decoration-color: #00d7ff\">None</span>, <span style=\"color: #00af00; text-decoration-color: #00af00\">10</span>, <span style=\"color: #00af00; text-decoration-color: #00af00\">32</span>, <span style=\"color: #00af00; text-decoration-color: #00af00\">32</span>, <span style=\"color: #00af00; text-decoration-color: #00af00\">64</span>) │        <span style=\"color: #00af00; text-decoration-color: #00af00\">18,496</span> │\n",
       "│ (<span style=\"color: #0087ff; text-decoration-color: #0087ff\">TimeDistributed</span>)               │                        │               │\n",
       "├─────────────────────────────────┼────────────────────────┼───────────────┤\n",
       "│ time_distributed_4              │ (<span style=\"color: #00d7ff; text-decoration-color: #00d7ff\">None</span>, <span style=\"color: #00af00; text-decoration-color: #00af00\">10</span>, <span style=\"color: #00af00; text-decoration-color: #00af00\">32</span>, <span style=\"color: #00af00; text-decoration-color: #00af00\">32</span>, <span style=\"color: #00af00; text-decoration-color: #00af00\">64</span>) │           <span style=\"color: #00af00; text-decoration-color: #00af00\">256</span> │\n",
       "│ (<span style=\"color: #0087ff; text-decoration-color: #0087ff\">TimeDistributed</span>)               │                        │               │\n",
       "├─────────────────────────────────┼────────────────────────┼───────────────┤\n",
       "│ time_distributed_5              │ (<span style=\"color: #00d7ff; text-decoration-color: #00d7ff\">None</span>, <span style=\"color: #00af00; text-decoration-color: #00af00\">10</span>, <span style=\"color: #00af00; text-decoration-color: #00af00\">16</span>, <span style=\"color: #00af00; text-decoration-color: #00af00\">16</span>, <span style=\"color: #00af00; text-decoration-color: #00af00\">64</span>) │             <span style=\"color: #00af00; text-decoration-color: #00af00\">0</span> │\n",
       "│ (<span style=\"color: #0087ff; text-decoration-color: #0087ff\">TimeDistributed</span>)               │                        │               │\n",
       "├─────────────────────────────────┼────────────────────────┼───────────────┤\n",
       "│ time_distributed_6              │ (<span style=\"color: #00d7ff; text-decoration-color: #00d7ff\">None</span>, <span style=\"color: #00af00; text-decoration-color: #00af00\">10</span>, <span style=\"color: #00af00; text-decoration-color: #00af00\">16384</span>)      │             <span style=\"color: #00af00; text-decoration-color: #00af00\">0</span> │\n",
       "│ (<span style=\"color: #0087ff; text-decoration-color: #0087ff\">TimeDistributed</span>)               │                        │               │\n",
       "├─────────────────────────────────┼────────────────────────┼───────────────┤\n",
       "│ lstm (<span style=\"color: #0087ff; text-decoration-color: #0087ff\">LSTM</span>)                     │ (<span style=\"color: #00d7ff; text-decoration-color: #00d7ff\">None</span>, <span style=\"color: #00af00; text-decoration-color: #00af00\">128</span>)            │     <span style=\"color: #00af00; text-decoration-color: #00af00\">8,454,656</span> │\n",
       "├─────────────────────────────────┼────────────────────────┼───────────────┤\n",
       "│ dropout (<span style=\"color: #0087ff; text-decoration-color: #0087ff\">Dropout</span>)               │ (<span style=\"color: #00d7ff; text-decoration-color: #00d7ff\">None</span>, <span style=\"color: #00af00; text-decoration-color: #00af00\">128</span>)            │             <span style=\"color: #00af00; text-decoration-color: #00af00\">0</span> │\n",
       "├─────────────────────────────────┼────────────────────────┼───────────────┤\n",
       "│ dense (<span style=\"color: #0087ff; text-decoration-color: #0087ff\">Dense</span>)                   │ (<span style=\"color: #00d7ff; text-decoration-color: #00d7ff\">None</span>, <span style=\"color: #00af00; text-decoration-color: #00af00\">64</span>)             │         <span style=\"color: #00af00; text-decoration-color: #00af00\">8,256</span> │\n",
       "├─────────────────────────────────┼────────────────────────┼───────────────┤\n",
       "│ dropout_1 (<span style=\"color: #0087ff; text-decoration-color: #0087ff\">Dropout</span>)             │ (<span style=\"color: #00d7ff; text-decoration-color: #00d7ff\">None</span>, <span style=\"color: #00af00; text-decoration-color: #00af00\">64</span>)             │             <span style=\"color: #00af00; text-decoration-color: #00af00\">0</span> │\n",
       "├─────────────────────────────────┼────────────────────────┼───────────────┤\n",
       "│ dense_1 (<span style=\"color: #0087ff; text-decoration-color: #0087ff\">Dense</span>)                 │ (<span style=\"color: #00d7ff; text-decoration-color: #00d7ff\">None</span>, <span style=\"color: #00af00; text-decoration-color: #00af00\">2</span>)              │           <span style=\"color: #00af00; text-decoration-color: #00af00\">130</span> │\n",
       "└─────────────────────────────────┴────────────────────────┴───────────────┘\n",
       "</pre>\n"
      ],
      "text/plain": [
       "┏━━━━━━━━━━━━━━━━━━━━━━━━━━━━━━━━━┳━━━━━━━━━━━━━━━━━━━━━━━━┳━━━━━━━━━━━━━━━┓\n",
       "┃\u001b[1m \u001b[0m\u001b[1mLayer (type)                   \u001b[0m\u001b[1m \u001b[0m┃\u001b[1m \u001b[0m\u001b[1mOutput Shape          \u001b[0m\u001b[1m \u001b[0m┃\u001b[1m \u001b[0m\u001b[1m      Param #\u001b[0m\u001b[1m \u001b[0m┃\n",
       "┡━━━━━━━━━━━━━━━━━━━━━━━━━━━━━━━━━╇━━━━━━━━━━━━━━━━━━━━━━━━╇━━━━━━━━━━━━━━━┩\n",
       "│ input_layer (\u001b[38;5;33mInputLayer\u001b[0m)        │ (\u001b[38;5;45mNone\u001b[0m, \u001b[38;5;34m10\u001b[0m, \u001b[38;5;34m64\u001b[0m, \u001b[38;5;34m64\u001b[0m, \u001b[38;5;34m3\u001b[0m)  │             \u001b[38;5;34m0\u001b[0m │\n",
       "├─────────────────────────────────┼────────────────────────┼───────────────┤\n",
       "│ time_distributed                │ (\u001b[38;5;45mNone\u001b[0m, \u001b[38;5;34m10\u001b[0m, \u001b[38;5;34m64\u001b[0m, \u001b[38;5;34m64\u001b[0m, \u001b[38;5;34m32\u001b[0m) │           \u001b[38;5;34m896\u001b[0m │\n",
       "│ (\u001b[38;5;33mTimeDistributed\u001b[0m)               │                        │               │\n",
       "├─────────────────────────────────┼────────────────────────┼───────────────┤\n",
       "│ time_distributed_1              │ (\u001b[38;5;45mNone\u001b[0m, \u001b[38;5;34m10\u001b[0m, \u001b[38;5;34m64\u001b[0m, \u001b[38;5;34m64\u001b[0m, \u001b[38;5;34m32\u001b[0m) │           \u001b[38;5;34m128\u001b[0m │\n",
       "│ (\u001b[38;5;33mTimeDistributed\u001b[0m)               │                        │               │\n",
       "├─────────────────────────────────┼────────────────────────┼───────────────┤\n",
       "│ time_distributed_2              │ (\u001b[38;5;45mNone\u001b[0m, \u001b[38;5;34m10\u001b[0m, \u001b[38;5;34m32\u001b[0m, \u001b[38;5;34m32\u001b[0m, \u001b[38;5;34m32\u001b[0m) │             \u001b[38;5;34m0\u001b[0m │\n",
       "│ (\u001b[38;5;33mTimeDistributed\u001b[0m)               │                        │               │\n",
       "├─────────────────────────────────┼────────────────────────┼───────────────┤\n",
       "│ time_distributed_3              │ (\u001b[38;5;45mNone\u001b[0m, \u001b[38;5;34m10\u001b[0m, \u001b[38;5;34m32\u001b[0m, \u001b[38;5;34m32\u001b[0m, \u001b[38;5;34m64\u001b[0m) │        \u001b[38;5;34m18,496\u001b[0m │\n",
       "│ (\u001b[38;5;33mTimeDistributed\u001b[0m)               │                        │               │\n",
       "├─────────────────────────────────┼────────────────────────┼───────────────┤\n",
       "│ time_distributed_4              │ (\u001b[38;5;45mNone\u001b[0m, \u001b[38;5;34m10\u001b[0m, \u001b[38;5;34m32\u001b[0m, \u001b[38;5;34m32\u001b[0m, \u001b[38;5;34m64\u001b[0m) │           \u001b[38;5;34m256\u001b[0m │\n",
       "│ (\u001b[38;5;33mTimeDistributed\u001b[0m)               │                        │               │\n",
       "├─────────────────────────────────┼────────────────────────┼───────────────┤\n",
       "│ time_distributed_5              │ (\u001b[38;5;45mNone\u001b[0m, \u001b[38;5;34m10\u001b[0m, \u001b[38;5;34m16\u001b[0m, \u001b[38;5;34m16\u001b[0m, \u001b[38;5;34m64\u001b[0m) │             \u001b[38;5;34m0\u001b[0m │\n",
       "│ (\u001b[38;5;33mTimeDistributed\u001b[0m)               │                        │               │\n",
       "├─────────────────────────────────┼────────────────────────┼───────────────┤\n",
       "│ time_distributed_6              │ (\u001b[38;5;45mNone\u001b[0m, \u001b[38;5;34m10\u001b[0m, \u001b[38;5;34m16384\u001b[0m)      │             \u001b[38;5;34m0\u001b[0m │\n",
       "│ (\u001b[38;5;33mTimeDistributed\u001b[0m)               │                        │               │\n",
       "├─────────────────────────────────┼────────────────────────┼───────────────┤\n",
       "│ lstm (\u001b[38;5;33mLSTM\u001b[0m)                     │ (\u001b[38;5;45mNone\u001b[0m, \u001b[38;5;34m128\u001b[0m)            │     \u001b[38;5;34m8,454,656\u001b[0m │\n",
       "├─────────────────────────────────┼────────────────────────┼───────────────┤\n",
       "│ dropout (\u001b[38;5;33mDropout\u001b[0m)               │ (\u001b[38;5;45mNone\u001b[0m, \u001b[38;5;34m128\u001b[0m)            │             \u001b[38;5;34m0\u001b[0m │\n",
       "├─────────────────────────────────┼────────────────────────┼───────────────┤\n",
       "│ dense (\u001b[38;5;33mDense\u001b[0m)                   │ (\u001b[38;5;45mNone\u001b[0m, \u001b[38;5;34m64\u001b[0m)             │         \u001b[38;5;34m8,256\u001b[0m │\n",
       "├─────────────────────────────────┼────────────────────────┼───────────────┤\n",
       "│ dropout_1 (\u001b[38;5;33mDropout\u001b[0m)             │ (\u001b[38;5;45mNone\u001b[0m, \u001b[38;5;34m64\u001b[0m)             │             \u001b[38;5;34m0\u001b[0m │\n",
       "├─────────────────────────────────┼────────────────────────┼───────────────┤\n",
       "│ dense_1 (\u001b[38;5;33mDense\u001b[0m)                 │ (\u001b[38;5;45mNone\u001b[0m, \u001b[38;5;34m2\u001b[0m)              │           \u001b[38;5;34m130\u001b[0m │\n",
       "└─────────────────────────────────┴────────────────────────┴───────────────┘\n"
      ]
     },
     "metadata": {},
     "output_type": "display_data"
    },
    {
     "data": {
      "text/html": [
       "<pre style=\"white-space:pre;overflow-x:auto;line-height:normal;font-family:Menlo,'DejaVu Sans Mono',consolas,'Courier New',monospace\"><span style=\"font-weight: bold\"> Total params: </span><span style=\"color: #00af00; text-decoration-color: #00af00\">25,448,072</span> (97.08 MB)\n",
       "</pre>\n"
      ],
      "text/plain": [
       "\u001b[1m Total params: \u001b[0m\u001b[38;5;34m25,448,072\u001b[0m (97.08 MB)\n"
      ]
     },
     "metadata": {},
     "output_type": "display_data"
    },
    {
     "data": {
      "text/html": [
       "<pre style=\"white-space:pre;overflow-x:auto;line-height:normal;font-family:Menlo,'DejaVu Sans Mono',consolas,'Courier New',monospace\"><span style=\"font-weight: bold\"> Trainable params: </span><span style=\"color: #00af00; text-decoration-color: #00af00\">8,482,626</span> (32.36 MB)\n",
       "</pre>\n"
      ],
      "text/plain": [
       "\u001b[1m Trainable params: \u001b[0m\u001b[38;5;34m8,482,626\u001b[0m (32.36 MB)\n"
      ]
     },
     "metadata": {},
     "output_type": "display_data"
    },
    {
     "data": {
      "text/html": [
       "<pre style=\"white-space:pre;overflow-x:auto;line-height:normal;font-family:Menlo,'DejaVu Sans Mono',consolas,'Courier New',monospace\"><span style=\"font-weight: bold\"> Non-trainable params: </span><span style=\"color: #00af00; text-decoration-color: #00af00\">192</span> (768.00 B)\n",
       "</pre>\n"
      ],
      "text/plain": [
       "\u001b[1m Non-trainable params: \u001b[0m\u001b[38;5;34m192\u001b[0m (768.00 B)\n"
      ]
     },
     "metadata": {},
     "output_type": "display_data"
    },
    {
     "data": {
      "text/html": [
       "<pre style=\"white-space:pre;overflow-x:auto;line-height:normal;font-family:Menlo,'DejaVu Sans Mono',consolas,'Courier New',monospace\"><span style=\"font-weight: bold\"> Optimizer params: </span><span style=\"color: #00af00; text-decoration-color: #00af00\">16,965,254</span> (64.72 MB)\n",
       "</pre>\n"
      ],
      "text/plain": [
       "\u001b[1m Optimizer params: \u001b[0m\u001b[38;5;34m16,965,254\u001b[0m (64.72 MB)\n"
      ]
     },
     "metadata": {},
     "output_type": "display_data"
    }
   ],
   "source": [
    "model.summary()"
   ]
  },
  {
   "cell_type": "markdown",
   "id": "7dfcefe4",
   "metadata": {},
   "source": [
    "## Saving Model"
   ]
  },
  {
   "cell_type": "code",
   "execution_count": 22,
   "id": "440b8ef9",
   "metadata": {
    "execution": {
     "iopub.execute_input": "2025-07-29T11:54:38.511084Z",
     "iopub.status.busy": "2025-07-29T11:54:38.510598Z",
     "iopub.status.idle": "2025-07-29T11:54:38.811231Z",
     "shell.execute_reply": "2025-07-29T11:54:38.810675Z"
    },
    "papermill": {
     "duration": 0.335717,
     "end_time": "2025-07-29T11:54:38.812544",
     "exception": false,
     "start_time": "2025-07-29T11:54:38.476827",
     "status": "completed"
    },
    "tags": []
   },
   "outputs": [],
   "source": [
    "model.save('Teir-1_model.h5')"
   ]
  }
 ],
 "metadata": {
  "kaggle": {
   "accelerator": "nvidiaTeslaT4",
   "dataSources": [
    {
     "datasetId": 7901787,
     "sourceId": 12518271,
     "sourceType": "datasetVersion"
    },
    {
     "datasetId": 7901842,
     "sourceId": 12518346,
     "sourceType": "datasetVersion"
    },
    {
     "datasetId": 7961007,
     "sourceId": 12603667,
     "sourceType": "datasetVersion"
    }
   ],
   "dockerImageVersionId": 31089,
   "isGpuEnabled": true,
   "isInternetEnabled": true,
   "language": "python",
   "sourceType": "notebook"
  },
  "kernelspec": {
   "display_name": "Python 3",
   "language": "python",
   "name": "python3"
  },
  "language_info": {
   "codemirror_mode": {
    "name": "ipython",
    "version": 3
   },
   "file_extension": ".py",
   "mimetype": "text/x-python",
   "name": "python",
   "nbconvert_exporter": "python",
   "pygments_lexer": "ipython3",
   "version": "3.11.13"
  },
  "papermill": {
   "default_parameters": {},
   "duration": 358.293521,
   "end_time": "2025-07-29T11:54:42.134016",
   "environment_variables": {},
   "exception": null,
   "input_path": "__notebook__.ipynb",
   "output_path": "__notebook__.ipynb",
   "parameters": {},
   "start_time": "2025-07-29T11:48:43.840495",
   "version": "2.6.0"
  }
 },
 "nbformat": 4,
 "nbformat_minor": 5
}
