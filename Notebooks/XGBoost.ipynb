{
 "cells": [
  {
   "cell_type": "markdown",
   "id": "8fdf265e",
   "metadata": {},
   "source": [
    "## Imports"
   ]
  },
  {
   "cell_type": "code",
   "execution_count": null,
   "id": "94b966cc",
   "metadata": {
    "execution": {
     "iopub.execute_input": "2025-07-29T12:13:40.287957Z",
     "iopub.status.busy": "2025-07-29T12:13:40.287096Z",
     "iopub.status.idle": "2025-07-29T12:13:44.053855Z",
     "shell.execute_reply": "2025-07-29T12:13:44.053046Z"
    },
    "papermill": {
     "duration": 3.773893,
     "end_time": "2025-07-29T12:13:44.055716",
     "exception": false,
     "start_time": "2025-07-29T12:13:40.281823",
     "status": "completed"
    },
    "tags": []
   },
   "outputs": [],
   "source": [
    "import os\n",
    "import numpy as np\n",
    "import cv2\n",
    "from sklearn.model_selection import train_test_split\n",
    "from sklearn.metrics import classification_report, confusion_matrix, ConfusionMatrixDisplay\n",
    "from xgboost import XGBClassifier\n",
    "import matplotlib.pyplot as plt\n",
    "import random\n",
    "\n",
    "# Configurations\n",
    "N_DAYS = 5\n",
    "N_MODALITIES = 1\n",
    "IMG_SIZE = (64, 64)\n",
    "BASE_DIR = \"/kaggle/input/hab-200/dataset_200\"\n",
    "MAX_SAMPLES_PER_CLASS = {'0':90, '1':200}"
   ]
  },
  {
   "cell_type": "markdown",
   "id": "c655db2e",
   "metadata": {},
   "source": [
    "## Data Loading"
   ]
  },
  {
   "cell_type": "code",
   "execution_count": null,
   "id": "99df2b96",
   "metadata": {
    "execution": {
     "iopub.execute_input": "2025-07-29T12:13:44.080965Z",
     "iopub.status.busy": "2025-07-29T12:13:44.080695Z",
     "iopub.status.idle": "2025-07-29T12:13:52.147376Z",
     "shell.execute_reply": "2025-07-29T12:13:52.146258Z"
    },
    "papermill": {
     "duration": 8.073025,
     "end_time": "2025-07-29T12:13:52.148818",
     "exception": false,
     "start_time": "2025-07-29T12:13:44.075793",
     "status": "completed"
    },
    "tags": []
   },
   "outputs": [
    {
     "name": "stdout",
     "output_type": "stream",
     "text": [
      "Loaded: (290, 5, 64, 64, 3) (290,)\n"
     ]
    }
   ],
   "source": [
    "def load_data(base_dir, samples_per_class):\n",
    "    X, y = [], []\n",
    "    for label, max_per_class in samples_per_class.items():\n",
    "        label_dir = os.path.join(base_dir, label)\n",
    "        sample_folders = sorted(os.listdir(label_dir))\n",
    "        random.shuffle(sample_folders) \n",
    "        count = 0\n",
    "        \n",
    "        for folder in sample_folders:\n",
    "            if count >= max_per_class:\n",
    "                break\n",
    "            try:\n",
    "                day_images = []\n",
    "                for day in range(1, N_DAYS + 1):\n",
    "                    img_path = os.path.join(label_dir, folder, \"1\", f\"{day:02}.png\")\n",
    "                    img = cv2.imread(img_path)\n",
    "                    if img is None:\n",
    "                        raise ValueError(\"Missing image\")\n",
    "                    img = cv2.resize(img, IMG_SIZE)\n",
    "                    img = img.astype(\"float32\") / 255.0\n",
    "                    day_images.append(img)\n",
    "                sample = np.stack(day_images, axis=0)\n",
    "                X.append(sample)\n",
    "                y.append(int(label))\n",
    "                count += 1\n",
    "            except:\n",
    "                continue\n",
    "    return np.array(X), np.array(y)\n",
    "\n",
    "X, y = load_data(BASE_DIR, MAX_SAMPLES_PER_CLASS)\n",
    "print(\"Loaded:\", X.shape, y.shape)"
   ]
  },
  {
   "cell_type": "markdown",
   "id": "86f6b630",
   "metadata": {},
   "source": [
    "## Data Preprocessing"
   ]
  },
  {
   "cell_type": "code",
   "execution_count": 4,
   "id": "b57cf7f6",
   "metadata": {
    "execution": {
     "iopub.execute_input": "2025-07-29T12:13:52.158885Z",
     "iopub.status.busy": "2025-07-29T12:13:52.158563Z",
     "iopub.status.idle": "2025-07-29T12:13:52.200479Z",
     "shell.execute_reply": "2025-07-29T12:13:52.199532Z"
    },
    "papermill": {
     "duration": 0.048939,
     "end_time": "2025-07-29T12:13:52.202476",
     "exception": false,
     "start_time": "2025-07-29T12:13:52.153537",
     "status": "completed"
    },
    "tags": []
   },
   "outputs": [],
   "source": [
    "X_flat = X.reshape(len(X), -1)\n",
    "X_train, X_test, y_train, y_test = train_test_split(X_flat, y, test_size=0.2, stratify=y, random_state=42, shuffle = True)"
   ]
  },
  {
   "cell_type": "code",
   "execution_count": 6,
   "id": "c5c74611",
   "metadata": {
    "execution": {
     "iopub.execute_input": "2025-07-29T12:13:52.232054Z",
     "iopub.status.busy": "2025-07-29T12:13:52.231802Z",
     "iopub.status.idle": "2025-07-29T12:13:52.237431Z",
     "shell.execute_reply": "2025-07-29T12:13:52.236564Z"
    },
    "papermill": {
     "duration": 0.013241,
     "end_time": "2025-07-29T12:13:52.238746",
     "exception": false,
     "start_time": "2025-07-29T12:13:52.225505",
     "status": "completed"
    },
    "tags": []
   },
   "outputs": [
    {
     "name": "stdout",
     "output_type": "stream",
     "text": [
      "Using scale_pos_weight=0.45\n"
     ]
    }
   ],
   "source": [
    "n_neg = np.sum(y_train == 0)\n",
    "n_pos = np.sum(y_train == 1)\n",
    "scale_pos_weight = n_neg / n_pos\n",
    "print(f\"Using scale_pos_weight={scale_pos_weight:.2f}\")"
   ]
  },
  {
   "cell_type": "markdown",
   "id": "52e9e26a",
   "metadata": {},
   "source": [
    "## Model Training"
   ]
  },
  {
   "cell_type": "code",
   "execution_count": 7,
   "id": "626c840d",
   "metadata": {
    "execution": {
     "iopub.execute_input": "2025-07-29T12:13:52.249728Z",
     "iopub.status.busy": "2025-07-29T12:13:52.248785Z",
     "iopub.status.idle": "2025-07-29T12:14:13.799324Z",
     "shell.execute_reply": "2025-07-29T12:14:13.798191Z"
    },
    "papermill": {
     "duration": 21.557644,
     "end_time": "2025-07-29T12:14:13.800796",
     "exception": false,
     "start_time": "2025-07-29T12:13:52.243152",
     "status": "completed"
    },
    "tags": []
   },
   "outputs": [
    {
     "name": "stdout",
     "output_type": "stream",
     "text": [
      "              precision    recall  f1-score   support\n",
      "\n",
      "           0       0.74      0.78      0.76        18\n",
      "           1       0.90      0.88      0.89        40\n",
      "\n",
      "    accuracy                           0.84        58\n",
      "   macro avg       0.82      0.83      0.82        58\n",
      "weighted avg       0.85      0.84      0.85        58\n",
      "\n"
     ]
    },
    {
     "data": {
      "image/png": "[encoded data removed]",
      "text/plain": [
       "<Figure size 640x480 with 2 Axes>"
      ]
     },
     "metadata": {},
     "output_type": "display_data"
    }
   ],
   "source": [
    "xgb = XGBClassifier(n_jobs=-1, use_label_encoder=False, eval_metric=\"logloss\", scale_pos_weight=scale_pos_weight)\n",
    "xgb.fit(X_train, y_train)\n",
    "y_pred = xgb.predict(X_test)\n",
    "\n",
    "print(classification_report(y_test, y_pred))\n",
    "ConfusionMatrixDisplay.from_predictions(y_test, y_pred, display_labels=[\"Non-Toxic\", \"Toxic\"], cmap=\"Greens\")\n",
    "plt.title(\"XGBoost - Free Tier\")\n",
    "plt.show()"
   ]
  },
  {
   "cell_type": "markdown",
   "id": "64438b9f",
   "metadata": {},
   "source": [
    "## Loading Test Data"
   ]
  },
  {
   "cell_type": "code",
   "execution_count": 8,
   "id": "a5982db2",
   "metadata": {
    "execution": {
     "iopub.execute_input": "2025-07-29T12:14:13.812430Z",
     "iopub.status.busy": "2025-07-29T12:14:13.812084Z",
     "iopub.status.idle": "2025-07-29T12:14:21.958024Z",
     "shell.execute_reply": "2025-07-29T12:14:21.956925Z"
    },
    "papermill": {
     "duration": 8.153751,
     "end_time": "2025-07-29T12:14:21.959704",
     "exception": false,
     "start_time": "2025-07-29T12:14:13.805953",
     "status": "completed"
    },
    "tags": []
   },
   "outputs": [
    {
     "name": "stdout",
     "output_type": "stream",
     "text": [
      "Loaded: (300, 5, 64, 64, 3) (300,)\n"
     ]
    }
   ],
   "source": [
    "test_X, test_y = load_data('/kaggle/input/test-hab-200/Test_HAB_200', {'0':150, '1':150})\n",
    "print(\"Loaded:\", test_X.shape, test_y.shape)"
   ]
  },
  {
   "cell_type": "code",
   "execution_count": 9,
   "id": "53843a85",
   "metadata": {
    "execution": {
     "iopub.execute_input": "2025-07-29T12:14:21.971344Z",
     "iopub.status.busy": "2025-07-29T12:14:21.971019Z",
     "iopub.status.idle": "2025-07-29T12:14:21.975631Z",
     "shell.execute_reply": "2025-07-29T12:14:21.974679Z"
    },
    "papermill": {
     "duration": 0.011944,
     "end_time": "2025-07-29T12:14:21.977096",
     "exception": false,
     "start_time": "2025-07-29T12:14:21.965152",
     "status": "completed"
    },
    "tags": []
   },
   "outputs": [],
   "source": [
    "test_X = test_X.reshape(len(test_X), -1)"
   ]
  },
  {
   "cell_type": "code",
   "execution_count": 10,
   "id": "bbb59ef5",
   "metadata": {
    "execution": {
     "iopub.execute_input": "2025-07-29T12:14:21.988067Z",
     "iopub.status.busy": "2025-07-29T12:14:21.987795Z",
     "iopub.status.idle": "2025-07-29T12:14:22.029107Z",
     "shell.execute_reply": "2025-07-29T12:14:22.028346Z"
    },
    "papermill": {
     "duration": 0.048619,
     "end_time": "2025-07-29T12:14:22.030789",
     "exception": false,
     "start_time": "2025-07-29T12:14:21.982170",
     "status": "completed"
    },
    "tags": []
   },
   "outputs": [],
   "source": [
    "p = np.random.permutation(len(test_X))\n",
    "X_test_shuffled = test_X[p]\n",
    "y_test_shuffled = test_y[p]"
   ]
  },
  {
   "cell_type": "markdown",
   "id": "d8fe32f4",
   "metadata": {},
   "source": [
    "## Testing model on unseen data"
   ]
  },
  {
   "cell_type": "code",
   "execution_count": 11,
   "id": "dbf70962",
   "metadata": {
    "execution": {
     "iopub.execute_input": "2025-07-29T12:14:22.042037Z",
     "iopub.status.busy": "2025-07-29T12:14:22.041765Z",
     "iopub.status.idle": "2025-07-29T12:14:22.312359Z",
     "shell.execute_reply": "2025-07-29T12:14:22.311328Z"
    },
    "papermill": {
     "duration": 0.277528,
     "end_time": "2025-07-29T12:14:22.313629",
     "exception": false,
     "start_time": "2025-07-29T12:14:22.036101",
     "status": "completed"
    },
    "tags": []
   },
   "outputs": [
    {
     "name": "stdout",
     "output_type": "stream",
     "text": [
      "              precision    recall  f1-score   support\n",
      "\n",
      "           0       0.69      0.67      0.68       150\n",
      "           1       0.68      0.71      0.69       150\n",
      "\n",
      "    accuracy                           0.69       300\n",
      "   macro avg       0.69      0.69      0.69       300\n",
      "weighted avg       0.69      0.69      0.69       300\n",
      "\n"
     ]
    },
    {
     "data": {
      "image/png": "[encoded data removed]",
      "text/plain": [
       "<Figure size 640x480 with 2 Axes>"
      ]
     },
     "metadata": {},
     "output_type": "display_data"
    }
   ],
   "source": [
    "preds = xgb.predict(X_test_shuffled)\n",
    "\n",
    "print(classification_report(y_test_shuffled, preds))\n",
    "ConfusionMatrixDisplay.from_predictions(y_test_shuffled, preds, display_labels=[\"Non-Toxic\", \"Toxic\"], cmap=\"Greens\")\n",
    "plt.title(\"XGBoost - Free Tier\")\n",
    "plt.show()"
   ]
  },
  {
   "cell_type": "markdown",
   "id": "2a31cbc1",
   "metadata": {},
   "source": [
    "## Predictions for unseen single datacube"
   ]
  },
  {
   "cell_type": "code",
   "execution_count": 20,
   "id": "f41cd521",
   "metadata": {
    "execution": {
     "iopub.execute_input": "2025-07-29T12:14:22.762681Z",
     "iopub.status.busy": "2025-07-29T12:14:22.762382Z",
     "iopub.status.idle": "2025-07-29T12:14:22.768344Z",
     "shell.execute_reply": "2025-07-29T12:14:22.767450Z"
    },
    "papermill": {
     "duration": 0.014674,
     "end_time": "2025-07-29T12:14:22.769893",
     "exception": false,
     "start_time": "2025-07-29T12:14:22.755219",
     "status": "completed"
    },
    "tags": []
   },
   "outputs": [],
   "source": [
    "def load_datacube(folder_path):\n",
    "    day_images = []\n",
    "    for day in range(1, N_DAYS + 1):\n",
    "        img_path = os.path.join(folder_path, \"1\", f\"{day:02}.png\")\n",
    "        img = cv2.imread(img_path)\n",
    "        if img is None:\n",
    "            raise ValueError(\"Missing image\")\n",
    "        img = cv2.resize(img, IMG_SIZE)\n",
    "        img = img.astype(\"float32\") / 255.0\n",
    "        day_images.append(img)\n",
    "    sample = np.stack(day_images, axis=0)\n",
    "    return np.array(sample).flatten()"
   ]
  },
  {
   "cell_type": "code",
   "execution_count": 21,
   "id": "00e5402d",
   "metadata": {
    "execution": {
     "iopub.execute_input": "2025-07-29T12:14:22.784285Z",
     "iopub.status.busy": "2025-07-29T12:14:22.783967Z",
     "iopub.status.idle": "2025-07-29T12:14:22.812896Z",
     "shell.execute_reply": "2025-07-29T12:14:22.812221Z"
    },
    "papermill": {
     "duration": 0.037961,
     "end_time": "2025-07-29T12:14:22.814460",
     "exception": false,
     "start_time": "2025-07-29T12:14:22.776499",
     "status": "completed"
    },
    "tags": []
   },
   "outputs": [
    {
     "data": {
      "text/plain": [
       "(0, array([[0.6606598 , 0.33934024]], dtype=float32))"
      ]
     },
     "execution_count": 21,
     "metadata": {},
     "output_type": "execute_result"
    }
   ],
   "source": [
    "x = load_datacube('/kaggle/input/test-hab-200/Test_HAB_200/0/habnet_datacube_20160404_26.7614_-82.0611_0')\n",
    "xgb.predict([x])[0], xgb.predict_proba([x])"
   ]
  },
  {
   "cell_type": "code",
   "execution_count": 22,
   "id": "fbdc4d54",
   "metadata": {
    "execution": {
     "iopub.execute_input": "2025-07-29T12:14:22.832082Z",
     "iopub.status.busy": "2025-07-29T12:14:22.831786Z",
     "iopub.status.idle": "2025-07-29T12:14:22.850470Z",
     "shell.execute_reply": "2025-07-29T12:14:22.848832Z"
    },
    "papermill": {
     "duration": 0.028585,
     "end_time": "2025-07-29T12:14:22.851960",
     "exception": false,
     "start_time": "2025-07-29T12:14:22.823375",
     "status": "completed"
    },
    "tags": []
   },
   "outputs": [
    {
     "data": {
      "text/plain": [
       "(0, array([[0.5018156 , 0.49818438]], dtype=float32))"
      ]
     },
     "execution_count": 22,
     "metadata": {},
     "output_type": "execute_result"
    }
   ],
   "source": [
    "x = load_datacube('/kaggle/input/test-hab-200/Test_HAB_200/0/habnet_datacube_20160321_27.311_-82.5772_0')\n",
    "xgb.predict([x])[0], xgb.predict_proba([x])"
   ]
  },
  {
   "cell_type": "code",
   "execution_count": 23,
   "id": "6cf4d4d6",
   "metadata": {
    "execution": {
     "iopub.execute_input": "2025-07-29T12:14:22.868663Z",
     "iopub.status.busy": "2025-07-29T12:14:22.868338Z",
     "iopub.status.idle": "2025-07-29T12:14:22.886236Z",
     "shell.execute_reply": "2025-07-29T12:14:22.884814Z"
    },
    "papermill": {
     "duration": 0.02707,
     "end_time": "2025-07-29T12:14:22.887669",
     "exception": false,
     "start_time": "2025-07-29T12:14:22.860599",
     "status": "completed"
    },
    "tags": []
   },
   "outputs": [
    {
     "data": {
      "text/plain": [
       "(1, array([[0.058936, 0.941064]], dtype=float32))"
      ]
     },
     "execution_count": 23,
     "metadata": {},
     "output_type": "execute_result"
    }
   ],
   "source": [
    "x = load_datacube('/kaggle/input/test-hab-200/Test_HAB_200/1/habnet_datacube_20161003_27.5298_-82.704_250667')\n",
    "xgb.predict([x])[0], xgb.predict_proba([x])"
   ]
  },
  {
   "cell_type": "code",
   "execution_count": 24,
   "id": "b9f8faab",
   "metadata": {
    "execution": {
     "iopub.execute_input": "2025-07-29T12:14:22.904545Z",
     "iopub.status.busy": "2025-07-29T12:14:22.903632Z",
     "iopub.status.idle": "2025-07-29T12:14:22.966035Z",
     "shell.execute_reply": "2025-07-29T12:14:22.965326Z"
    },
    "papermill": {
     "duration": 0.071821,
     "end_time": "2025-07-29T12:14:22.967566",
     "exception": false,
     "start_time": "2025-07-29T12:14:22.895745",
     "status": "completed"
    },
    "tags": []
   },
   "outputs": [
    {
     "data": {
      "text/plain": [
       "(1, array([[0.11348504, 0.88651496]], dtype=float32))"
      ]
     },
     "execution_count": 24,
     "metadata": {},
     "output_type": "execute_result"
    }
   ],
   "source": [
    "x = load_datacube('/kaggle/input/test-hab-200/Test_HAB_200/1/habnet_datacube_20161007_27.3316_-82.5779_516000')\n",
    "xgb.predict([x])[0], xgb.predict_proba([x])"
   ]
  },
  {
   "cell_type": "markdown",
   "id": "40911473",
   "metadata": {},
   "source": [
    "## Saving Model"
   ]
  },
  {
   "cell_type": "code",
   "execution_count": 25,
   "id": "1540fe66",
   "metadata": {
    "execution": {
     "iopub.execute_input": "2025-07-29T12:14:22.984810Z",
     "iopub.status.busy": "2025-07-29T12:14:22.984484Z",
     "iopub.status.idle": "2025-07-29T12:14:22.991255Z",
     "shell.execute_reply": "2025-07-29T12:14:22.990642Z"
    },
    "papermill": {
     "duration": 0.016877,
     "end_time": "2025-07-29T12:14:22.993028",
     "exception": false,
     "start_time": "2025-07-29T12:14:22.976151",
     "status": "completed"
    },
    "tags": []
   },
   "outputs": [],
   "source": [
    "import pickle\n",
    "with open ('free_tier_model.pkl', 'wb') as file:\n",
    "    pickle.dump(xgb, file)"
   ]
  }
 ],
 "metadata": {
  "kaggle": {
   "accelerator": "none",
   "dataSources": [
    {
     "datasetId": 7901787,
     "sourceId": 12518271,
     "sourceType": "datasetVersion"
    },
    {
     "datasetId": 7901842,
     "sourceId": 12518346,
     "sourceType": "datasetVersion"
    },
    {
     "datasetId": 7961007,
     "sourceId": 12603667,
     "sourceType": "datasetVersion"
    }
   ],
   "dockerImageVersionId": 31089,
   "isGpuEnabled": false,
   "isInternetEnabled": true,
   "language": "python",
   "sourceType": "notebook"
  },
  "kernelspec": {
   "display_name": "Python 3",
   "language": "python",
   "name": "python3"
  },
  "language_info": {
   "codemirror_mode": {
    "name": "ipython",
    "version": 3
   },
   "file_extension": ".py",
   "mimetype": "text/x-python",
   "name": "python",
   "nbconvert_exporter": "python",
   "pygments_lexer": "ipython3",
   "version": "3.11.13"
  },
  "papermill": {
   "default_parameters": {},
   "duration": 48.13203,
   "end_time": "2025-07-29T12:14:23.921658",
   "environment_variables": {},
   "exception": null,
   "input_path": "__notebook__.ipynb",
   "output_path": "__notebook__.ipynb",
   "parameters": {},
   "start_time": "2025-07-29T12:13:35.789628",
   "version": "2.6.0"
  }
 },
 "nbformat": 4,
 "nbformat_minor": 5
}
