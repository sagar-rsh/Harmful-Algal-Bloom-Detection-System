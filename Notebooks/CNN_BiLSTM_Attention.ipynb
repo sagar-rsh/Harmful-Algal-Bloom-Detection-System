{
 "cells": [
  {
   "cell_type": "markdown",
   "id": "f3b98b99",
   "metadata": {},
   "source": [
    "## Imports"
   ]
  },
  {
   "cell_type": "code",
   "execution_count": 1,
   "id": "85882620",
   "metadata": {
    "execution": {
     "iopub.execute_input": "2025-07-29T17:02:42.894395Z",
     "iopub.status.busy": "2025-07-29T17:02:42.894069Z",
     "iopub.status.idle": "2025-07-29T17:03:09.034165Z",
     "shell.execute_reply": "2025-07-29T17:03:09.033325Z"
    },
    "papermill": {
     "duration": 26.147786,
     "end_time": "2025-07-29T17:03:09.035819",
     "exception": false,
     "start_time": "2025-07-29T17:02:42.888033",
     "status": "completed"
    },
    "tags": []
   },
   "outputs": [
    {
     "name": "stderr",
     "output_type": "stream",
     "text": [
      "2025-07-29 17:02:49.008157: E external/local_xla/xla/stream_executor/cuda/cuda_fft.cc:477] Unable to register cuFFT factory: Attempting to register factory for plugin cuFFT when one has already been registered\n",
      "WARNING: All log messages before absl::InitializeLog() is called are written to STDERR\n",
      "E0000 00:00:1753808569.378984      19 cuda_dnn.cc:8310] Unable to register cuDNN factory: Attempting to register factory for plugin cuDNN when one has already been registered\n",
      "E0000 00:00:1753808569.479776      19 cuda_blas.cc:1418] Unable to register cuBLAS factory: Attempting to register factory for plugin cuBLAS when one has already been registered\n"
     ]
    }
   ],
   "source": [
    "import os\n",
    "import numpy as np\n",
    "import time\n",
    "import matplotlib.pyplot as plt\n",
    "from PIL import Image\n",
    "from sklearn.model_selection import train_test_split\n",
    "from sklearn.metrics import classification_report, confusion_matrix, ConfusionMatrixDisplay\n",
    "from tensorflow.keras.models import Model\n",
    "from tensorflow.keras.layers import Input, Conv2D, MaxPooling2D, Flatten, Dense, Dropout, LSTM, TimeDistributed, Bidirectional, Layer, Multiply, Permute, RepeatVector, Activation\n",
    "from tensorflow.keras.optimizers import Adam\n",
    "from tensorflow.keras.utils import to_categorical\n",
    "from tensorflow.keras.callbacks import EarlyStopping\n",
    "import tensorflow as tf\n",
    "import random\n",
    "from sklearn.metrics import accuracy_score"
   ]
  },
  {
   "cell_type": "markdown",
   "id": "3a7585f6",
   "metadata": {},
   "source": [
    "## Configurations"
   ]
  },
  {
   "cell_type": "code",
   "execution_count": null,
   "id": "059496d6",
   "metadata": {
    "execution": {
     "iopub.execute_input": "2025-07-29T17:03:09.046232Z",
     "iopub.status.busy": "2025-07-29T17:03:09.045255Z",
     "iopub.status.idle": "2025-07-29T17:03:09.049969Z",
     "shell.execute_reply": "2025-07-29T17:03:09.049184Z"
    },
    "papermill": {
     "duration": 0.010646,
     "end_time": "2025-07-29T17:03:09.051142",
     "exception": false,
     "start_time": "2025-07-29T17:03:09.040496",
     "status": "completed"
    },
    "tags": []
   },
   "outputs": [],
   "source": [
    "N_MODALITIES = 3\n",
    "N_DAYS = 10\n",
    "IMG_SIZE = (64, 64)\n",
    "DATA_DIR = \"/kaggle/input/data-3k/data_set_3K\"\n",
    "MAX_SAMPLES_PER_CLASS = {'0':200, '1':250}"
   ]
  },
  {
   "cell_type": "markdown",
   "id": "9fd9cbfb",
   "metadata": {},
   "source": [
    "## Data Loading\n"
   ]
  },
  {
   "cell_type": "code",
   "execution_count": null,
   "id": "bb5d801f",
   "metadata": {
    "execution": {
     "iopub.execute_input": "2025-07-29T17:03:09.060906Z",
     "iopub.status.busy": "2025-07-29T17:03:09.060430Z",
     "iopub.status.idle": "2025-07-29T17:03:09.067798Z",
     "shell.execute_reply": "2025-07-29T17:03:09.067102Z"
    },
    "papermill": {
     "duration": 0.013713,
     "end_time": "2025-07-29T17:03:09.069112",
     "exception": false,
     "start_time": "2025-07-29T17:03:09.055399",
     "status": "completed"
    },
    "tags": []
   },
   "outputs": [],
   "source": [
    "def load_data(DATA_DIR, samples_per_class):\n",
    "    X_raw, y = [], []\n",
    "    for label, max_samples in samples_per_class.items():\n",
    "        label_path = os.path.join(DATA_DIR, label)\n",
    "        sample_folders = sorted(os.listdir(label_path))\n",
    "        count = 0\n",
    "\n",
    "        for sample_id in sample_folders:\n",
    "            if count >= max_samples:\n",
    "                break\n",
    "            sample_path = os.path.join(label_path, sample_id)\n",
    "            modalities = sorted(os.listdir(sample_path))[:N_MODALITIES]\n",
    "            cube = []\n",
    "\n",
    "            for mod in modalities:\n",
    "                mod_path = os.path.join(sample_path, mod)\n",
    "                day_images = []\n",
    "                for d in range(1, N_DAYS + 1):\n",
    "                    img_path = os.path.join(mod_path, f\"{str(d).zfill(2)}.png\")\n",
    "                    if os.path.exists(img_path):\n",
    "                        img = Image.open(img_path).resize(IMG_SIZE).convert(\"L\")\n",
    "                        img_np = np.array(img)\n",
    "                        day_images.append(img_np)\n",
    "                if len(day_images) == N_DAYS:\n",
    "                    cube.append(day_images)\n",
    "\n",
    "            if len(cube) == N_MODALITIES:\n",
    "                cube_np = np.transpose(np.array(cube), (1, 2, 3, 0))  # (DAYS, H, W, MODALITIES)\n",
    "                X_raw.append(cube_np)\n",
    "                y.append(int(label))\n",
    "                count += 1\n",
    "\n",
    "    return np.array(X_raw), np.array(y)"
   ]
  },
  {
   "cell_type": "markdown",
   "id": "6b4e90ac",
   "metadata": {},
   "source": [
    "## Attention Layer"
   ]
  },
  {
   "cell_type": "code",
   "execution_count": null,
   "id": "7f1896ce",
   "metadata": {
    "execution": {
     "iopub.execute_input": "2025-07-29T17:03:09.078401Z",
     "iopub.status.busy": "2025-07-29T17:03:09.078104Z",
     "iopub.status.idle": "2025-07-29T17:03:09.083248Z",
     "shell.execute_reply": "2025-07-29T17:03:09.082661Z"
    },
    "papermill": {
     "duration": 0.011096,
     "end_time": "2025-07-29T17:03:09.084432",
     "exception": false,
     "start_time": "2025-07-29T17:03:09.073336",
     "status": "completed"
    },
    "tags": []
   },
   "outputs": [],
   "source": [
    "class AttentionLayer(Layer):\n",
    "    def __init__(self):\n",
    "        super(AttentionLayer, self).__init__()\n",
    "        self.dense1 = Dense(1, activation='tanh')\n",
    "        self.flatten = Flatten()\n",
    "        self.softmax = Dense(N_DAYS, activation='softmax')\n",
    "        self.repeat = RepeatVector(256)\n",
    "        self.permute = Permute([2, 1])\n",
    "\n",
    "    def call(self, inputs):\n",
    "        attention_scores = self.dense1(inputs)\n",
    "        attention_weights = self.flatten(attention_scores)\n",
    "        attention_weights = self.softmax(attention_weights)\n",
    "        attention_weights = self.repeat(attention_weights)\n",
    "        attention_weights = self.permute(attention_weights)\n",
    "        return Multiply()([inputs, attention_weights])"
   ]
  },
  {
   "cell_type": "markdown",
   "id": "008f0a16",
   "metadata": {},
   "source": [
    "## Model Training"
   ]
  },
  {
   "cell_type": "code",
   "execution_count": null,
   "id": "28c170cf",
   "metadata": {
    "execution": {
     "iopub.execute_input": "2025-07-29T17:03:09.093922Z",
     "iopub.status.busy": "2025-07-29T17:03:09.093686Z",
     "iopub.status.idle": "2025-07-29T17:03:09.103345Z",
     "shell.execute_reply": "2025-07-29T17:03:09.102760Z"
    },
    "papermill": {
     "duration": 0.015752,
     "end_time": "2025-07-29T17:03:09.104521",
     "exception": false,
     "start_time": "2025-07-29T17:03:09.088769",
     "status": "completed"
    },
    "tags": []
   },
   "outputs": [],
   "source": [
    "def train_habnet(data_dir, samples_per_class):\n",
    "    print('Starting to Load Data..........')\n",
    "    X_raw, y = load_data(data_dir, samples_per_class)\n",
    "    print(\"✅ Data shape:\", X_raw.shape, y.shape)\n",
    "\n",
    "    y_cat = to_categorical(y)\n",
    "\n",
    "    X_train, X_val, y_train, y_val = train_test_split(X_raw, y_cat, test_size=0.2, random_state=42, shuffle = True)\n",
    "\n",
    "    input_shape = (N_DAYS, IMG_SIZE[0], IMG_SIZE[1], N_MODALITIES)\n",
    "    inputs = Input(shape=input_shape)\n",
    "\n",
    "    x = TimeDistributed(Conv2D(32, (3, 3), activation='relu'))(inputs)\n",
    "    x = TimeDistributed(MaxPooling2D((2, 2)))(x)\n",
    "    x = TimeDistributed(Flatten())(x)\n",
    "    x = Bidirectional(LSTM(128, return_sequences=True))(x)\n",
    "    x = AttentionLayer()(x)\n",
    "    x = Flatten()(x)\n",
    "    x = Dense(128, activation='relu')(x)\n",
    "    x = Dropout(0.5)(x)\n",
    "    outputs = Dense(2, activation='softmax')(x)\n",
    "\n",
    "    model = Model(inputs, outputs)\n",
    "    model.compile(optimizer=Adam(1e-4), loss='categorical_crossentropy', metrics=['accuracy'])\n",
    "\n",
    "    early_stop = EarlyStopping(monitor='val_loss', patience=5, restore_best_weights=True)\n",
    "\n",
    "    print(\"🚀 Starting Tier 2 Training...\")\n",
    "    start = time.time()\n",
    "    history = model.fit(\n",
    "        X_train, y_train,\n",
    "        epochs=50,\n",
    "        batch_size=16,\n",
    "        validation_data=(X_val, y_val),\n",
    "        callbacks=[early_stop],\n",
    "        verbose=1\n",
    "    )\n",
    "    end = time.time()\n",
    "    print(\"\\n✅ Time taken:\", round(end - start, 2), \"seconds\")\n",
    "\n",
    "    print(\"\\n📊 Evaluation on Test Set:\")\n",
    "    X_test, y_test = load_data('/kaggle/input/test-hab-200/Test_HAB_200', {'0':200, '1':200})\n",
    "\n",
    "    print(\" Data shape:\", X_test.shape, y_test.shape)\n",
    "    Y_test = to_categorical(y_test)\n",
    "    \n",
    "    loss, acc = model.evaluate(X_test, Y_test)\n",
    "    print(\"Test Accuracy:\", acc)\n",
    "\n",
    "    pred = model.predict(X_test).argmax(axis=1)\n",
    "    print('Pred Shape : ', pred.shape)\n",
    "    print('Accuracy Score : ', accuracy_score(pred, y_test))\n",
    "    print(classification_report(pred, y_test))\n",
    "    cm = confusion_matrix(y_test, pred)\n",
    "    disp = ConfusionMatrixDisplay(confusion_matrix=cm)\n",
    "    disp.plot()\n",
    "    plt.title(\"Tier 2 Confusion Matrix\")\n",
    "    plt.show()\n",
    "\n",
    "    plt.plot(history.history['accuracy'], label='Train Accuracy')\n",
    "    plt.plot(history.history['val_accuracy'], label='Validation Accuracy')\n",
    "    plt.xlabel(\"Epoch\")\n",
    "    plt.ylabel(\"Accuracy\")\n",
    "    plt.title(\"Tier 2 Accuracy Over Epochs\")\n",
    "    plt.legend()\n",
    "    plt.grid(True)\n",
    "    plt.show()\n",
    "    return model"
   ]
  },
  {
   "cell_type": "code",
   "execution_count": 6,
   "id": "0a6224c1",
   "metadata": {
    "execution": {
     "iopub.execute_input": "2025-07-29T17:03:09.113970Z",
     "iopub.status.busy": "2025-07-29T17:03:09.113479Z",
     "iopub.status.idle": "2025-07-29T17:09:06.916385Z",
     "shell.execute_reply": "2025-07-29T17:09:06.915502Z"
    },
    "papermill": {
     "duration": 357.809296,
     "end_time": "2025-07-29T17:09:06.918171",
     "exception": false,
     "start_time": "2025-07-29T17:03:09.108875",
     "status": "completed"
    },
    "tags": []
   },
   "outputs": [
    {
     "name": "stdout",
     "output_type": "stream",
     "text": [
      "Starting to Load Data..........\n",
      "✅ Data shape: (450, 10, 64, 64, 3) (450,)\n"
     ]
    },
    {
     "name": "stderr",
     "output_type": "stream",
     "text": [
      "I0000 00:00:1753808736.075066      19 gpu_device.cc:2022] Created device /job:localhost/replica:0/task:0/device:GPU:0 with 13942 MB memory:  -> device: 0, name: Tesla T4, pci bus id: 0000:00:04.0, compute capability: 7.5\n",
      "I0000 00:00:1753808736.075896      19 gpu_device.cc:2022] Created device /job:localhost/replica:0/task:0/device:GPU:1 with 13942 MB memory:  -> device: 1, name: Tesla T4, pci bus id: 0000:00:05.0, compute capability: 7.5\n"
     ]
    },
    {
     "name": "stdout",
     "output_type": "stream",
     "text": [
      "🚀 Starting Tier 2 Training...\n",
      "Epoch 1/50\n"
     ]
    },
    {
     "name": "stderr",
     "output_type": "stream",
     "text": [
      "I0000 00:00:1753808745.177183      60 cuda_dnn.cc:529] Loaded cuDNN version 90300\n"
     ]
    },
    {
     "name": "stdout",
     "output_type": "stream",
     "text": [
      "\u001b[1m23/23\u001b[0m \u001b[32m━━━━━━━━━━━━━━━━━━━━\u001b[0m\u001b[37m\u001b[0m \u001b[1m14s\u001b[0m 140ms/step - accuracy: 0.5243 - loss: 0.6940 - val_accuracy: 0.5333 - val_loss: 0.6829\n",
      "Epoch 2/50\n",
      "\u001b[1m23/23\u001b[0m \u001b[32m━━━━━━━━━━━━━━━━━━━━\u001b[0m\u001b[37m\u001b[0m \u001b[1m2s\u001b[0m 77ms/step - accuracy: 0.5945 - loss: 0.6782 - val_accuracy: 0.5333 - val_loss: 0.6748\n",
      "Epoch 3/50\n",
      "\u001b[1m23/23\u001b[0m \u001b[32m━━━━━━━━━━━━━━━━━━━━\u001b[0m\u001b[37m\u001b[0m \u001b[1m2s\u001b[0m 77ms/step - accuracy: 0.5772 - loss: 0.6694 - val_accuracy: 0.5333 - val_loss: 0.6676\n",
      "Epoch 4/50\n",
      "\u001b[1m23/23\u001b[0m \u001b[32m━━━━━━━━━━━━━━━━━━━━\u001b[0m\u001b[37m\u001b[0m \u001b[1m2s\u001b[0m 77ms/step - accuracy: 0.5942 - loss: 0.6576 - val_accuracy: 0.5667 - val_loss: 0.6482\n",
      "Epoch 5/50\n",
      "\u001b[1m23/23\u001b[0m \u001b[32m━━━━━━━━━━━━━━━━━━━━\u001b[0m\u001b[37m\u001b[0m \u001b[1m2s\u001b[0m 76ms/step - accuracy: 0.6957 - loss: 0.6289 - val_accuracy: 0.6556 - val_loss: 0.6385\n",
      "Epoch 6/50\n",
      "\u001b[1m23/23\u001b[0m \u001b[32m━━━━━━━━━━━━━━━━━━━━\u001b[0m\u001b[37m\u001b[0m \u001b[1m2s\u001b[0m 77ms/step - accuracy: 0.7065 - loss: 0.6351 - val_accuracy: 0.6556 - val_loss: 0.6204\n",
      "Epoch 7/50\n",
      "\u001b[1m23/23\u001b[0m \u001b[32m━━━━━━━━━━━━━━━━━━━━\u001b[0m\u001b[37m\u001b[0m \u001b[1m2s\u001b[0m 76ms/step - accuracy: 0.6938 - loss: 0.5963 - val_accuracy: 0.7111 - val_loss: 0.5844\n",
      "Epoch 8/50\n",
      "\u001b[1m23/23\u001b[0m \u001b[32m━━━━━━━━━━━━━━━━━━━━\u001b[0m\u001b[37m\u001b[0m \u001b[1m2s\u001b[0m 76ms/step - accuracy: 0.7657 - loss: 0.5517 - val_accuracy: 0.8333 - val_loss: 0.4994\n",
      "Epoch 9/50\n",
      "\u001b[1m23/23\u001b[0m \u001b[32m━━━━━━━━━━━━━━━━━━━━\u001b[0m\u001b[37m\u001b[0m \u001b[1m2s\u001b[0m 76ms/step - accuracy: 0.8255 - loss: 0.5043 - val_accuracy: 0.8444 - val_loss: 0.4535\n",
      "Epoch 10/50\n",
      "\u001b[1m23/23\u001b[0m \u001b[32m━━━━━━━━━━━━━━━━━━━━\u001b[0m\u001b[37m\u001b[0m \u001b[1m2s\u001b[0m 76ms/step - accuracy: 0.8761 - loss: 0.4138 - val_accuracy: 0.8333 - val_loss: 0.4259\n",
      "Epoch 11/50\n",
      "\u001b[1m23/23\u001b[0m \u001b[32m━━━━━━━━━━━━━━━━━━━━\u001b[0m\u001b[37m\u001b[0m \u001b[1m2s\u001b[0m 76ms/step - accuracy: 0.8610 - loss: 0.3782 - val_accuracy: 0.8778 - val_loss: 0.3579\n",
      "Epoch 12/50\n",
      "\u001b[1m23/23\u001b[0m \u001b[32m━━━━━━━━━━━━━━━━━━━━\u001b[0m\u001b[37m\u001b[0m \u001b[1m2s\u001b[0m 76ms/step - accuracy: 0.9013 - loss: 0.3008 - val_accuracy: 0.8333 - val_loss: 0.3531\n",
      "Epoch 13/50\n",
      "\u001b[1m23/23\u001b[0m \u001b[32m━━━━━━━━━━━━━━━━━━━━\u001b[0m\u001b[37m\u001b[0m \u001b[1m2s\u001b[0m 76ms/step - accuracy: 0.9253 - loss: 0.2866 - val_accuracy: 0.8889 - val_loss: 0.3079\n",
      "Epoch 14/50\n",
      "\u001b[1m23/23\u001b[0m \u001b[32m━━━━━━━━━━━━━━━━━━━━\u001b[0m\u001b[37m\u001b[0m \u001b[1m2s\u001b[0m 68ms/step - accuracy: 0.9347 - loss: 0.2465 - val_accuracy: 0.8889 - val_loss: 0.3239\n",
      "Epoch 15/50\n",
      "\u001b[1m23/23\u001b[0m \u001b[32m━━━━━━━━━━━━━━━━━━━━\u001b[0m\u001b[37m\u001b[0m \u001b[1m2s\u001b[0m 68ms/step - accuracy: 0.8881 - loss: 0.2603 - val_accuracy: 0.8444 - val_loss: 0.3411\n",
      "Epoch 16/50\n",
      "\u001b[1m23/23\u001b[0m \u001b[32m━━━━━━━━━━━━━━━━━━━━\u001b[0m\u001b[37m\u001b[0m \u001b[1m2s\u001b[0m 68ms/step - accuracy: 0.9078 - loss: 0.2534 - val_accuracy: 0.8333 - val_loss: 0.3375\n",
      "Epoch 17/50\n",
      "\u001b[1m23/23\u001b[0m \u001b[32m━━━━━━━━━━━━━━━━━━━━\u001b[0m\u001b[37m\u001b[0m \u001b[1m2s\u001b[0m 76ms/step - accuracy: 0.9318 - loss: 0.2243 - val_accuracy: 0.8889 - val_loss: 0.2754\n",
      "Epoch 18/50\n",
      "\u001b[1m23/23\u001b[0m \u001b[32m━━━━━━━━━━━━━━━━━━━━\u001b[0m\u001b[37m\u001b[0m \u001b[1m2s\u001b[0m 68ms/step - accuracy: 0.9399 - loss: 0.1959 - val_accuracy: 0.9111 - val_loss: 0.2757\n",
      "Epoch 19/50\n",
      "\u001b[1m23/23\u001b[0m \u001b[32m━━━━━━━━━━━━━━━━━━━━\u001b[0m\u001b[37m\u001b[0m \u001b[1m2s\u001b[0m 76ms/step - accuracy: 0.9599 - loss: 0.1534 - val_accuracy: 0.9000 - val_loss: 0.2606\n",
      "Epoch 20/50\n",
      "\u001b[1m23/23\u001b[0m \u001b[32m━━━━━━━━━━━━━━━━━━━━\u001b[0m\u001b[37m\u001b[0m \u001b[1m2s\u001b[0m 68ms/step - accuracy: 0.9581 - loss: 0.1381 - val_accuracy: 0.9111 - val_loss: 0.2741\n",
      "Epoch 21/50\n",
      "\u001b[1m23/23\u001b[0m \u001b[32m━━━━━━━━━━━━━━━━━━━━\u001b[0m\u001b[37m\u001b[0m \u001b[1m2s\u001b[0m 68ms/step - accuracy: 0.9491 - loss: 0.1614 - val_accuracy: 0.9222 - val_loss: 0.2748\n",
      "Epoch 22/50\n",
      "\u001b[1m23/23\u001b[0m \u001b[32m━━━━━━━━━━━━━━━━━━━━\u001b[0m\u001b[37m\u001b[0m \u001b[1m2s\u001b[0m 68ms/step - accuracy: 0.9488 - loss: 0.1345 - val_accuracy: 0.8778 - val_loss: 0.3498\n",
      "Epoch 23/50\n",
      "\u001b[1m23/23\u001b[0m \u001b[32m━━━━━━━━━━━━━━━━━━━━\u001b[0m\u001b[37m\u001b[0m \u001b[1m2s\u001b[0m 68ms/step - accuracy: 0.9480 - loss: 0.1787 - val_accuracy: 0.8778 - val_loss: 0.3216\n",
      "Epoch 24/50\n",
      "\u001b[1m23/23\u001b[0m \u001b[32m━━━━━━━━━━━━━━━━━━━━\u001b[0m\u001b[37m\u001b[0m \u001b[1m2s\u001b[0m 68ms/step - accuracy: 0.9440 - loss: 0.1701 - val_accuracy: 0.9333 - val_loss: 0.2684\n",
      "\n",
      "✅ Time taken: 52.88 seconds\n",
      "\n",
      "📊 Evaluation on Test Set:\n",
      " Data shape: (400, 10, 64, 64, 3) (400,)\n",
      "\u001b[1m13/13\u001b[0m \u001b[32m━━━━━━━━━━━━━━━━━━━━\u001b[0m\u001b[37m\u001b[0m \u001b[1m0s\u001b[0m 28ms/step - accuracy: 0.8154 - loss: 0.4279\n",
      "Test Accuracy: 0.8100000023841858\n",
      "\u001b[1m13/13\u001b[0m \u001b[32m━━━━━━━━━━━━━━━━━━━━\u001b[0m\u001b[37m\u001b[0m \u001b[1m2s\u001b[0m 76ms/step\n",
      "Pred Shape :  (400,)\n",
      "Accuracy Score :  0.81\n",
      "              precision    recall  f1-score   support\n",
      "\n",
      "           0       0.81      0.81      0.81       200\n",
      "           1       0.81      0.81      0.81       200\n",
      "\n",
      "    accuracy                           0.81       400\n",
      "   macro avg       0.81      0.81      0.81       400\n",
      "weighted avg       0.81      0.81      0.81       400\n",
      "\n"
     ]
    },
    {
     "data": {
      "image/png": "[encoded data removed]",
      "text/plain": [
       "<Figure size 640x480 with 2 Axes>"
      ]
     },
     "metadata": {},
     "output_type": "display_data"
    },
    {
     "data": {
      "image/png": "[encoded data removed]",
      "text/plain": [
       "<Figure size 640x480 with 1 Axes>"
      ]
     },
     "metadata": {},
     "output_type": "display_data"
    }
   ],
   "source": [
    "model = train_habnet(DATA_DIR, MAX_SAMPLES_PER_CLASS)"
   ]
  },
  {
   "cell_type": "markdown",
   "id": "d61a10c3",
   "metadata": {},
   "source": [
    "## Testing on unseen data"
   ]
  },
  {
   "cell_type": "code",
   "execution_count": 7,
   "id": "1bcafcac",
   "metadata": {
    "execution": {
     "iopub.execute_input": "2025-07-29T17:09:06.991336Z",
     "iopub.status.busy": "2025-07-29T17:09:06.990998Z",
     "iopub.status.idle": "2025-07-29T17:09:45.012161Z",
     "shell.execute_reply": "2025-07-29T17:09:45.011233Z"
    },
    "papermill": {
     "duration": 38.059567,
     "end_time": "2025-07-29T17:09:45.014001",
     "exception": false,
     "start_time": "2025-07-29T17:09:06.954434",
     "status": "completed"
    },
    "tags": []
   },
   "outputs": [],
   "source": [
    "test_X, test_y = load_data('/kaggle/input/test-hab-200/Test_HAB_200', {'0':200, '1':200})"
   ]
  },
  {
   "cell_type": "code",
   "execution_count": 8,
   "id": "f7385721",
   "metadata": {
    "execution": {
     "iopub.execute_input": "2025-07-29T17:09:45.084121Z",
     "iopub.status.busy": "2025-07-29T17:09:45.083542Z",
     "iopub.status.idle": "2025-07-29T17:09:45.102165Z",
     "shell.execute_reply": "2025-07-29T17:09:45.101636Z"
    },
    "papermill": {
     "duration": 0.049962,
     "end_time": "2025-07-29T17:09:45.103464",
     "exception": false,
     "start_time": "2025-07-29T17:09:45.053502",
     "status": "completed"
    },
    "tags": []
   },
   "outputs": [],
   "source": [
    "p = np.random.permutation(len(test_X))\n",
    "X_test_shuffled = test_X[p]\n",
    "y_test_shuffled = test_y[p]"
   ]
  },
  {
   "cell_type": "code",
   "execution_count": 9,
   "id": "aa9134a9",
   "metadata": {
    "execution": {
     "iopub.execute_input": "2025-07-29T17:09:45.208513Z",
     "iopub.status.busy": "2025-07-29T17:09:45.207902Z",
     "iopub.status.idle": "2025-07-29T17:09:45.212849Z",
     "shell.execute_reply": "2025-07-29T17:09:45.212232Z"
    },
    "papermill": {
     "duration": 0.080759,
     "end_time": "2025-07-29T17:09:45.213942",
     "exception": false,
     "start_time": "2025-07-29T17:09:45.133183",
     "status": "completed"
    },
    "tags": []
   },
   "outputs": [
    {
     "data": {
      "text/plain": [
       "((400, 10, 64, 64, 3), (400,), (400, 10, 64, 64, 3), (400,))"
      ]
     },
     "execution_count": 9,
     "metadata": {},
     "output_type": "execute_result"
    }
   ],
   "source": [
    "test_X.shape, test_y.shape, X_test_shuffled.shape, y_test_shuffled.shape"
   ]
  },
  {
   "cell_type": "code",
   "execution_count": 10,
   "id": "67b14502",
   "metadata": {
    "execution": {
     "iopub.execute_input": "2025-07-29T17:09:45.273093Z",
     "iopub.status.busy": "2025-07-29T17:09:45.272856Z",
     "iopub.status.idle": "2025-07-29T17:09:45.794267Z",
     "shell.execute_reply": "2025-07-29T17:09:45.793696Z"
    },
    "papermill": {
     "duration": 0.552496,
     "end_time": "2025-07-29T17:09:45.795695",
     "exception": false,
     "start_time": "2025-07-29T17:09:45.243199",
     "status": "completed"
    },
    "tags": []
   },
   "outputs": [
    {
     "name": "stdout",
     "output_type": "stream",
     "text": [
      "\u001b[1m13/13\u001b[0m \u001b[32m━━━━━━━━━━━━━━━━━━━━\u001b[0m\u001b[37m\u001b[0m \u001b[1m0s\u001b[0m 25ms/step\n"
     ]
    }
   ],
   "source": [
    "preds = model.predict(X_test_shuffled)"
   ]
  },
  {
   "cell_type": "code",
   "execution_count": null,
   "id": "07d15506",
   "metadata": {
    "execution": {
     "iopub.execute_input": "2025-07-29T17:09:46.115619Z",
     "iopub.status.busy": "2025-07-29T17:09:46.114934Z",
     "iopub.status.idle": "2025-07-29T17:09:46.271890Z",
     "shell.execute_reply": "2025-07-29T17:09:46.271319Z"
    },
    "papermill": {
     "duration": 0.190035,
     "end_time": "2025-07-29T17:09:46.273101",
     "exception": false,
     "start_time": "2025-07-29T17:09:46.083066",
     "status": "completed"
    },
    "tags": []
   },
   "outputs": [
    {
     "name": "stdout",
     "output_type": "stream",
     "text": [
      "              precision    recall  f1-score   support\n",
      "\n",
      "           0       0.81      0.81      0.81       200\n",
      "           1       0.81      0.81      0.81       200\n",
      "\n",
      "    accuracy                           0.81       400\n",
      "   macro avg       0.81      0.81      0.81       400\n",
      "weighted avg       0.81      0.81      0.81       400\n",
      "\n"
     ]
    },
    {
     "data": {
      "image/png": "[encoded data removed]",
      "text/plain": [
       "<Figure size 640x480 with 2 Axes>"
      ]
     },
     "metadata": {},
     "output_type": "display_data"
    }
   ],
   "source": [
    "print(classification_report(y_test_shuffled, preds)\n",
    "ConfusionMatrixDisplay.from_predictions(y_test_shuffled, preds, display_labels=[\"Non-Toxic\", \"Toxic\"], cmap=\"Greens\")\n",
    "plt.title(\"Tier 2 Confusion Matrix - Test\")\n",
    "plt.show()"
   ]
  },
  {
   "cell_type": "markdown",
   "id": "97747efc",
   "metadata": {},
   "source": [
    "## Testing with single datacube"
   ]
  },
  {
   "cell_type": "code",
   "execution_count": 17,
   "id": "7b7d615b",
   "metadata": {
    "execution": {
     "iopub.execute_input": "2025-07-29T17:12:00.118049Z",
     "iopub.status.busy": "2025-07-29T17:12:00.117330Z",
     "iopub.status.idle": "2025-07-29T17:12:00.123212Z",
     "shell.execute_reply": "2025-07-29T17:12:00.122616Z"
    },
    "papermill": {
     "duration": 0.046321,
     "end_time": "2025-07-29T17:12:00.124366",
     "exception": false,
     "start_time": "2025-07-29T17:12:00.078045",
     "status": "completed"
    },
    "tags": []
   },
   "outputs": [],
   "source": [
    "def load_datacube(sample_path):\n",
    "    modalities = sorted(os.listdir(sample_path))[:N_MODALITIES]\n",
    "    cube = []\n",
    "\n",
    "    for mod in modalities:\n",
    "        mod_path = os.path.join(sample_path, mod)\n",
    "        day_images = []\n",
    "        for d in range(1, N_DAYS + 1):\n",
    "            img_path = os.path.join(mod_path, f\"{str(d).zfill(2)}.png\")\n",
    "            if os.path.exists(img_path):\n",
    "                img = Image.open(img_path).resize(IMG_SIZE).convert(\"L\")\n",
    "                img_np = np.array(img)\n",
    "                day_images.append(img_np)\n",
    "        if len(day_images) == N_DAYS:\n",
    "            cube.append(day_images)\n",
    "\n",
    "    if len(cube) == N_MODALITIES:\n",
    "        cube_np = np.transpose(np.array(cube), (1, 2, 3, 0))  # (DAYS, H, W, MODALITIES)\n",
    "        x = cube_np\n",
    "    return x"
   ]
  },
  {
   "cell_type": "code",
   "execution_count": 18,
   "id": "434d3b1c",
   "metadata": {
    "execution": {
     "iopub.execute_input": "2025-07-29T17:12:00.194968Z",
     "iopub.status.busy": "2025-07-29T17:12:00.194667Z",
     "iopub.status.idle": "2025-07-29T17:12:00.198612Z",
     "shell.execute_reply": "2025-07-29T17:12:00.198009Z"
    },
    "papermill": {
     "duration": 0.041077,
     "end_time": "2025-07-29T17:12:00.199792",
     "exception": false,
     "start_time": "2025-07-29T17:12:00.158715",
     "status": "completed"
    },
    "tags": []
   },
   "outputs": [],
   "source": [
    "def predict_datacube(folder_path, model):\n",
    "    x = load_datacube(folder_path)\n",
    "    print(model.predict(np.expand_dims(x,0)))"
   ]
  },
  {
   "cell_type": "code",
   "execution_count": 19,
   "id": "6c0f99ae",
   "metadata": {
    "execution": {
     "iopub.execute_input": "2025-07-29T17:12:00.269141Z",
     "iopub.status.busy": "2025-07-29T17:12:00.268849Z",
     "iopub.status.idle": "2025-07-29T17:12:00.550789Z",
     "shell.execute_reply": "2025-07-29T17:12:00.550005Z"
    },
    "papermill": {
     "duration": 0.318602,
     "end_time": "2025-07-29T17:12:00.552020",
     "exception": false,
     "start_time": "2025-07-29T17:12:00.233418",
     "status": "completed"
    },
    "tags": []
   },
   "outputs": [
    {
     "name": "stdout",
     "output_type": "stream",
     "text": [
      "\u001b[1m1/1\u001b[0m \u001b[32m━━━━━━━━━━━━━━━━━━━━\u001b[0m\u001b[37m\u001b[0m \u001b[1m0s\u001b[0m 138ms/step\n",
      "[[0.6295083  0.37049168]]\n"
     ]
    }
   ],
   "source": [
    "predict_datacube('/kaggle/input/test-hab-200/Test_HAB_200/0/habnet_datacube_20160404_26.7614_-82.0611_0', model)"
   ]
  },
  {
   "cell_type": "code",
   "execution_count": 20,
   "id": "cf74024f",
   "metadata": {
    "execution": {
     "iopub.execute_input": "2025-07-29T17:12:00.622936Z",
     "iopub.status.busy": "2025-07-29T17:12:00.622327Z",
     "iopub.status.idle": "2025-07-29T17:12:00.833627Z",
     "shell.execute_reply": "2025-07-29T17:12:00.832656Z"
    },
    "papermill": {
     "duration": 0.248382,
     "end_time": "2025-07-29T17:12:00.835156",
     "exception": false,
     "start_time": "2025-07-29T17:12:00.586774",
     "status": "completed"
    },
    "tags": []
   },
   "outputs": [
    {
     "name": "stdout",
     "output_type": "stream",
     "text": [
      "\u001b[1m1/1\u001b[0m \u001b[32m━━━━━━━━━━━━━━━━━━━━\u001b[0m\u001b[37m\u001b[0m \u001b[1m0s\u001b[0m 43ms/step\n",
      "[[0.97697484 0.02302518]]\n"
     ]
    }
   ],
   "source": [
    "predict_datacube('/kaggle/input/test-hab-200/Test_HAB_200/0/habnet_datacube_20160321_27.311_-82.5772_0', model)"
   ]
  },
  {
   "cell_type": "code",
   "execution_count": 21,
   "id": "afb2c4fd",
   "metadata": {
    "execution": {
     "iopub.execute_input": "2025-07-29T17:12:00.908584Z",
     "iopub.status.busy": "2025-07-29T17:12:00.908255Z",
     "iopub.status.idle": "2025-07-29T17:12:01.100321Z",
     "shell.execute_reply": "2025-07-29T17:12:01.099580Z"
    },
    "papermill": {
     "duration": 0.229634,
     "end_time": "2025-07-29T17:12:01.101473",
     "exception": false,
     "start_time": "2025-07-29T17:12:00.871839",
     "status": "completed"
    },
    "tags": []
   },
   "outputs": [
    {
     "name": "stdout",
     "output_type": "stream",
     "text": [
      "\u001b[1m1/1\u001b[0m \u001b[32m━━━━━━━━━━━━━━━━━━━━\u001b[0m\u001b[37m\u001b[0m \u001b[1m0s\u001b[0m 42ms/step\n",
      "[[0.05762123 0.94237876]]\n"
     ]
    }
   ],
   "source": [
    "predict_datacube('/kaggle/input/test-hab-200/Test_HAB_200/1/habnet_datacube_20161003_27.5298_-82.704_250667', model)"
   ]
  },
  {
   "cell_type": "code",
   "execution_count": 22,
   "id": "35f90717",
   "metadata": {
    "execution": {
     "iopub.execute_input": "2025-07-29T17:12:01.173751Z",
     "iopub.status.busy": "2025-07-29T17:12:01.173109Z",
     "iopub.status.idle": "2025-07-29T17:12:01.393800Z",
     "shell.execute_reply": "2025-07-29T17:12:01.392913Z"
    },
    "papermill": {
     "duration": 0.258598,
     "end_time": "2025-07-29T17:12:01.395216",
     "exception": false,
     "start_time": "2025-07-29T17:12:01.136618",
     "status": "completed"
    },
    "tags": []
   },
   "outputs": [
    {
     "name": "stdout",
     "output_type": "stream",
     "text": [
      "\u001b[1m1/1\u001b[0m \u001b[32m━━━━━━━━━━━━━━━━━━━━\u001b[0m\u001b[37m\u001b[0m \u001b[1m0s\u001b[0m 41ms/step\n",
      "[[0.20862839 0.79137164]]\n"
     ]
    }
   ],
   "source": [
    "predict_datacube('/kaggle/input/test-hab-200/Test_HAB_200/1/habnet_datacube_20161007_27.3316_-82.5779_516000', model)"
   ]
  },
  {
   "cell_type": "markdown",
   "id": "97945080",
   "metadata": {},
   "source": [
    "## Model Summary"
   ]
  },
  {
   "cell_type": "code",
   "execution_count": 23,
   "id": "1e217e73",
   "metadata": {
    "execution": {
     "iopub.execute_input": "2025-07-29T17:12:01.468057Z",
     "iopub.status.busy": "2025-07-29T17:12:01.467222Z",
     "iopub.status.idle": "2025-07-29T17:12:01.487796Z",
     "shell.execute_reply": "2025-07-29T17:12:01.487168Z"
    },
    "papermill": {
     "duration": 0.058033,
     "end_time": "2025-07-29T17:12:01.488861",
     "exception": false,
     "start_time": "2025-07-29T17:12:01.430828",
     "status": "completed"
    },
    "tags": []
   },
   "outputs": [
    {
     "data": {
      "text/html": [
       "<pre style=\"white-space:pre;overflow-x:auto;line-height:normal;font-family:Menlo,'DejaVu Sans Mono',consolas,'Courier New',monospace\"><span style=\"font-weight: bold\">Model: \"functional\"</span>\n",
       "</pre>\n"
      ],
      "text/plain": [
       "\u001b[1mModel: \"functional\"\u001b[0m\n"
      ]
     },
     "metadata": {},
     "output_type": "display_data"
    },
    {
     "data": {
      "text/html": [
       "<pre style=\"white-space:pre;overflow-x:auto;line-height:normal;font-family:Menlo,'DejaVu Sans Mono',consolas,'Courier New',monospace\">┏━━━━━━━━━━━━━━━━━━━━━━━━━━━━━━━━━┳━━━━━━━━━━━━━━━━━━━━━━━━┳━━━━━━━━━━━━━━━┓\n",
       "┃<span style=\"font-weight: bold\"> Layer (type)                    </span>┃<span style=\"font-weight: bold\"> Output Shape           </span>┃<span style=\"font-weight: bold\">       Param # </span>┃\n",
       "┡━━━━━━━━━━━━━━━━━━━━━━━━━━━━━━━━━╇━━━━━━━━━━━━━━━━━━━━━━━━╇━━━━━━━━━━━━━━━┩\n",
       "│ input_layer (<span style=\"color: #0087ff; text-decoration-color: #0087ff\">InputLayer</span>)        │ (<span style=\"color: #00d7ff; text-decoration-color: #00d7ff\">None</span>, <span style=\"color: #00af00; text-decoration-color: #00af00\">10</span>, <span style=\"color: #00af00; text-decoration-color: #00af00\">64</span>, <span style=\"color: #00af00; text-decoration-color: #00af00\">64</span>, <span style=\"color: #00af00; text-decoration-color: #00af00\">3</span>)  │             <span style=\"color: #00af00; text-decoration-color: #00af00\">0</span> │\n",
       "├─────────────────────────────────┼────────────────────────┼───────────────┤\n",
       "│ time_distributed                │ (<span style=\"color: #00d7ff; text-decoration-color: #00d7ff\">None</span>, <span style=\"color: #00af00; text-decoration-color: #00af00\">10</span>, <span style=\"color: #00af00; text-decoration-color: #00af00\">62</span>, <span style=\"color: #00af00; text-decoration-color: #00af00\">62</span>, <span style=\"color: #00af00; text-decoration-color: #00af00\">32</span>) │           <span style=\"color: #00af00; text-decoration-color: #00af00\">896</span> │\n",
       "│ (<span style=\"color: #0087ff; text-decoration-color: #0087ff\">TimeDistributed</span>)               │                        │               │\n",
       "├─────────────────────────────────┼────────────────────────┼───────────────┤\n",
       "│ time_distributed_1              │ (<span style=\"color: #00d7ff; text-decoration-color: #00d7ff\">None</span>, <span style=\"color: #00af00; text-decoration-color: #00af00\">10</span>, <span style=\"color: #00af00; text-decoration-color: #00af00\">31</span>, <span style=\"color: #00af00; text-decoration-color: #00af00\">31</span>, <span style=\"color: #00af00; text-decoration-color: #00af00\">32</span>) │             <span style=\"color: #00af00; text-decoration-color: #00af00\">0</span> │\n",
       "│ (<span style=\"color: #0087ff; text-decoration-color: #0087ff\">TimeDistributed</span>)               │                        │               │\n",
       "├─────────────────────────────────┼────────────────────────┼───────────────┤\n",
       "│ time_distributed_2              │ (<span style=\"color: #00d7ff; text-decoration-color: #00d7ff\">None</span>, <span style=\"color: #00af00; text-decoration-color: #00af00\">10</span>, <span style=\"color: #00af00; text-decoration-color: #00af00\">30752</span>)      │             <span style=\"color: #00af00; text-decoration-color: #00af00\">0</span> │\n",
       "│ (<span style=\"color: #0087ff; text-decoration-color: #0087ff\">TimeDistributed</span>)               │                        │               │\n",
       "├─────────────────────────────────┼────────────────────────┼───────────────┤\n",
       "│ bidirectional (<span style=\"color: #0087ff; text-decoration-color: #0087ff\">Bidirectional</span>)   │ (<span style=\"color: #00d7ff; text-decoration-color: #00d7ff\">None</span>, <span style=\"color: #00af00; text-decoration-color: #00af00\">10</span>, <span style=\"color: #00af00; text-decoration-color: #00af00\">256</span>)        │    <span style=\"color: #00af00; text-decoration-color: #00af00\">31,622,144</span> │\n",
       "├─────────────────────────────────┼────────────────────────┼───────────────┤\n",
       "│ attention_layer                 │ (<span style=\"color: #00d7ff; text-decoration-color: #00d7ff\">None</span>, <span style=\"color: #00af00; text-decoration-color: #00af00\">10</span>, <span style=\"color: #00af00; text-decoration-color: #00af00\">256</span>)        │           <span style=\"color: #00af00; text-decoration-color: #00af00\">367</span> │\n",
       "│ (<span style=\"color: #0087ff; text-decoration-color: #0087ff\">AttentionLayer</span>)                │                        │               │\n",
       "├─────────────────────────────────┼────────────────────────┼───────────────┤\n",
       "│ flatten_2 (<span style=\"color: #0087ff; text-decoration-color: #0087ff\">Flatten</span>)             │ (<span style=\"color: #00d7ff; text-decoration-color: #00d7ff\">None</span>, <span style=\"color: #00af00; text-decoration-color: #00af00\">2560</span>)           │             <span style=\"color: #00af00; text-decoration-color: #00af00\">0</span> │\n",
       "├─────────────────────────────────┼────────────────────────┼───────────────┤\n",
       "│ dense_2 (<span style=\"color: #0087ff; text-decoration-color: #0087ff\">Dense</span>)                 │ (<span style=\"color: #00d7ff; text-decoration-color: #00d7ff\">None</span>, <span style=\"color: #00af00; text-decoration-color: #00af00\">128</span>)            │       <span style=\"color: #00af00; text-decoration-color: #00af00\">327,808</span> │\n",
       "├─────────────────────────────────┼────────────────────────┼───────────────┤\n",
       "│ dropout (<span style=\"color: #0087ff; text-decoration-color: #0087ff\">Dropout</span>)               │ (<span style=\"color: #00d7ff; text-decoration-color: #00d7ff\">None</span>, <span style=\"color: #00af00; text-decoration-color: #00af00\">128</span>)            │             <span style=\"color: #00af00; text-decoration-color: #00af00\">0</span> │\n",
       "├─────────────────────────────────┼────────────────────────┼───────────────┤\n",
       "│ dense_3 (<span style=\"color: #0087ff; text-decoration-color: #0087ff\">Dense</span>)                 │ (<span style=\"color: #00d7ff; text-decoration-color: #00d7ff\">None</span>, <span style=\"color: #00af00; text-decoration-color: #00af00\">2</span>)              │           <span style=\"color: #00af00; text-decoration-color: #00af00\">258</span> │\n",
       "└─────────────────────────────────┴────────────────────────┴───────────────┘\n",
       "</pre>\n"
      ],
      "text/plain": [
       "┏━━━━━━━━━━━━━━━━━━━━━━━━━━━━━━━━━┳━━━━━━━━━━━━━━━━━━━━━━━━┳━━━━━━━━━━━━━━━┓\n",
       "┃\u001b[1m \u001b[0m\u001b[1mLayer (type)                   \u001b[0m\u001b[1m \u001b[0m┃\u001b[1m \u001b[0m\u001b[1mOutput Shape          \u001b[0m\u001b[1m \u001b[0m┃\u001b[1m \u001b[0m\u001b[1m      Param #\u001b[0m\u001b[1m \u001b[0m┃\n",
       "┡━━━━━━━━━━━━━━━━━━━━━━━━━━━━━━━━━╇━━━━━━━━━━━━━━━━━━━━━━━━╇━━━━━━━━━━━━━━━┩\n",
       "│ input_layer (\u001b[38;5;33mInputLayer\u001b[0m)        │ (\u001b[38;5;45mNone\u001b[0m, \u001b[38;5;34m10\u001b[0m, \u001b[38;5;34m64\u001b[0m, \u001b[38;5;34m64\u001b[0m, \u001b[38;5;34m3\u001b[0m)  │             \u001b[38;5;34m0\u001b[0m │\n",
       "├─────────────────────────────────┼────────────────────────┼───────────────┤\n",
       "│ time_distributed                │ (\u001b[38;5;45mNone\u001b[0m, \u001b[38;5;34m10\u001b[0m, \u001b[38;5;34m62\u001b[0m, \u001b[38;5;34m62\u001b[0m, \u001b[38;5;34m32\u001b[0m) │           \u001b[38;5;34m896\u001b[0m │\n",
       "│ (\u001b[38;5;33mTimeDistributed\u001b[0m)               │                        │               │\n",
       "├─────────────────────────────────┼────────────────────────┼───────────────┤\n",
       "│ time_distributed_1              │ (\u001b[38;5;45mNone\u001b[0m, \u001b[38;5;34m10\u001b[0m, \u001b[38;5;34m31\u001b[0m, \u001b[38;5;34m31\u001b[0m, \u001b[38;5;34m32\u001b[0m) │             \u001b[38;5;34m0\u001b[0m │\n",
       "│ (\u001b[38;5;33mTimeDistributed\u001b[0m)               │                        │               │\n",
       "├─────────────────────────────────┼────────────────────────┼───────────────┤\n",
       "│ time_distributed_2              │ (\u001b[38;5;45mNone\u001b[0m, \u001b[38;5;34m10\u001b[0m, \u001b[38;5;34m30752\u001b[0m)      │             \u001b[38;5;34m0\u001b[0m │\n",
       "│ (\u001b[38;5;33mTimeDistributed\u001b[0m)               │                        │               │\n",
       "├─────────────────────────────────┼────────────────────────┼───────────────┤\n",
       "│ bidirectional (\u001b[38;5;33mBidirectional\u001b[0m)   │ (\u001b[38;5;45mNone\u001b[0m, \u001b[38;5;34m10\u001b[0m, \u001b[38;5;34m256\u001b[0m)        │    \u001b[38;5;34m31,622,144\u001b[0m │\n",
       "├─────────────────────────────────┼────────────────────────┼───────────────┤\n",
       "│ attention_layer                 │ (\u001b[38;5;45mNone\u001b[0m, \u001b[38;5;34m10\u001b[0m, \u001b[38;5;34m256\u001b[0m)        │           \u001b[38;5;34m367\u001b[0m │\n",
       "│ (\u001b[38;5;33mAttentionLayer\u001b[0m)                │                        │               │\n",
       "├─────────────────────────────────┼────────────────────────┼───────────────┤\n",
       "│ flatten_2 (\u001b[38;5;33mFlatten\u001b[0m)             │ (\u001b[38;5;45mNone\u001b[0m, \u001b[38;5;34m2560\u001b[0m)           │             \u001b[38;5;34m0\u001b[0m │\n",
       "├─────────────────────────────────┼────────────────────────┼───────────────┤\n",
       "│ dense_2 (\u001b[38;5;33mDense\u001b[0m)                 │ (\u001b[38;5;45mNone\u001b[0m, \u001b[38;5;34m128\u001b[0m)            │       \u001b[38;5;34m327,808\u001b[0m │\n",
       "├─────────────────────────────────┼────────────────────────┼───────────────┤\n",
       "│ dropout (\u001b[38;5;33mDropout\u001b[0m)               │ (\u001b[38;5;45mNone\u001b[0m, \u001b[38;5;34m128\u001b[0m)            │             \u001b[38;5;34m0\u001b[0m │\n",
       "├─────────────────────────────────┼────────────────────────┼───────────────┤\n",
       "│ dense_3 (\u001b[38;5;33mDense\u001b[0m)                 │ (\u001b[38;5;45mNone\u001b[0m, \u001b[38;5;34m2\u001b[0m)              │           \u001b[38;5;34m258\u001b[0m │\n",
       "└─────────────────────────────────┴────────────────────────┴───────────────┘\n"
      ]
     },
     "metadata": {},
     "output_type": "display_data"
    },
    {
     "data": {
      "text/html": [
       "<pre style=\"white-space:pre;overflow-x:auto;line-height:normal;font-family:Menlo,'DejaVu Sans Mono',consolas,'Courier New',monospace\"><span style=\"font-weight: bold\"> Total params: </span><span style=\"color: #00af00; text-decoration-color: #00af00\">95,854,421</span> (365.66 MB)\n",
       "</pre>\n"
      ],
      "text/plain": [
       "\u001b[1m Total params: \u001b[0m\u001b[38;5;34m95,854,421\u001b[0m (365.66 MB)\n"
      ]
     },
     "metadata": {},
     "output_type": "display_data"
    },
    {
     "data": {
      "text/html": [
       "<pre style=\"white-space:pre;overflow-x:auto;line-height:normal;font-family:Menlo,'DejaVu Sans Mono',consolas,'Courier New',monospace\"><span style=\"font-weight: bold\"> Trainable params: </span><span style=\"color: #00af00; text-decoration-color: #00af00\">31,951,473</span> (121.89 MB)\n",
       "</pre>\n"
      ],
      "text/plain": [
       "\u001b[1m Trainable params: \u001b[0m\u001b[38;5;34m31,951,473\u001b[0m (121.89 MB)\n"
      ]
     },
     "metadata": {},
     "output_type": "display_data"
    },
    {
     "data": {
      "text/html": [
       "<pre style=\"white-space:pre;overflow-x:auto;line-height:normal;font-family:Menlo,'DejaVu Sans Mono',consolas,'Courier New',monospace\"><span style=\"font-weight: bold\"> Non-trainable params: </span><span style=\"color: #00af00; text-decoration-color: #00af00\">0</span> (0.00 B)\n",
       "</pre>\n"
      ],
      "text/plain": [
       "\u001b[1m Non-trainable params: \u001b[0m\u001b[38;5;34m0\u001b[0m (0.00 B)\n"
      ]
     },
     "metadata": {},
     "output_type": "display_data"
    },
    {
     "data": {
      "text/html": [
       "<pre style=\"white-space:pre;overflow-x:auto;line-height:normal;font-family:Menlo,'DejaVu Sans Mono',consolas,'Courier New',monospace\"><span style=\"font-weight: bold\"> Optimizer params: </span><span style=\"color: #00af00; text-decoration-color: #00af00\">63,902,948</span> (243.77 MB)\n",
       "</pre>\n"
      ],
      "text/plain": [
       "\u001b[1m Optimizer params: \u001b[0m\u001b[38;5;34m63,902,948\u001b[0m (243.77 MB)\n"
      ]
     },
     "metadata": {},
     "output_type": "display_data"
    }
   ],
   "source": [
    "model.summary()"
   ]
  },
  {
   "cell_type": "markdown",
   "id": "97d4bb19",
   "metadata": {},
   "source": [
    "## Saving Model"
   ]
  },
  {
   "cell_type": "code",
   "execution_count": 24,
   "id": "a591ac41",
   "metadata": {
    "execution": {
     "iopub.execute_input": "2025-07-29T17:12:01.561164Z",
     "iopub.status.busy": "2025-07-29T17:12:01.560610Z",
     "iopub.status.idle": "2025-07-29T17:12:02.601502Z",
     "shell.execute_reply": "2025-07-29T17:12:02.600660Z"
    },
    "papermill": {
     "duration": 1.078111,
     "end_time": "2025-07-29T17:12:02.602992",
     "exception": false,
     "start_time": "2025-07-29T17:12:01.524881",
     "status": "completed"
    },
    "tags": []
   },
   "outputs": [],
   "source": [
    "model.save('Teir-2_model.h5')"
   ]
  }
 ],
 "metadata": {
  "kaggle": {
   "accelerator": "nvidiaTeslaT4",
   "dataSources": [
    {
     "datasetId": 7901787,
     "sourceId": 12518271,
     "sourceType": "datasetVersion"
    },
    {
     "datasetId": 7961007,
     "sourceId": 12603667,
     "sourceType": "datasetVersion"
    },
    {
     "datasetId": 7901842,
     "sourceId": 12518346,
     "sourceType": "datasetVersion"
    }
   ],
   "dockerImageVersionId": 31090,
   "isGpuEnabled": true,
   "isInternetEnabled": true,
   "language": "python",
   "sourceType": "notebook"
  },
  "kernelspec": {
   "display_name": "Python 3",
   "language": "python",
   "name": "python3"
  },
  "language_info": {
   "codemirror_mode": {
    "name": "ipython",
    "version": 3
   },
   "file_extension": ".py",
   "mimetype": "text/x-python",
   "name": "python",
   "nbconvert_exporter": "python",
   "pygments_lexer": "ipython3",
   "version": "3.11.13"
  },
  "papermill": {
   "default_parameters": {},
   "duration": 569.515429,
   "end_time": "2025-07-29T17:12:05.873024",
   "environment_variables": {},
   "exception": null,
   "input_path": "__notebook__.ipynb",
   "output_path": "__notebook__.ipynb",
   "parameters": {},
   "start_time": "2025-07-29T17:02:36.357595",
   "version": "2.6.0"
  }
 },
 "nbformat": 4,
 "nbformat_minor": 5
}
